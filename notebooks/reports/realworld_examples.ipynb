{
 "cells": [
  {
   "cell_type": "code",
   "execution_count": 1,
   "metadata": {},
   "outputs": [
    {
     "name": "stdout",
     "output_type": "stream",
     "text": [
      "/mnt/sda/otani/Experiments/eval-detection\n"
     ]
    }
   ],
   "source": [
    "%cd ../../"
   ]
  },
  {
   "cell_type": "code",
   "execution_count": 15,
   "metadata": {},
   "outputs": [],
   "source": [
    "import numpy as np\n",
    "import matplotlib.pyplot as plt\n",
    "import seaborn as sns\n",
    "from mmcv.utils.config import Config\n",
    "from mim.utils import DEFAULT_CACHE_DIR\n",
    "from src.extensions.dataset.coco_custom import CocoOtcDataset\n",
    "import os\n",
    "from mmdet.core.visualization.image import imshow_gt_det_bboxes\n",
    "from mmdet.datasets import build_dataset, get_loading_pipeline\n",
    "from src.utils.neptune_utils import load_results\n",
    "import pandas as pd\n",
    "sns.set()\n",
    "%matplotlib inline"
   ]
  },
  {
   "cell_type": "code",
   "execution_count": null,
   "metadata": {},
   "outputs": [],
   "source": [
    "cfg = Config.fromfile(\"~/.cache/mim/vfnet_r50_fpn_mstrain_2x_coco.py\")\n",
    "cfg.data.test.test_mode = True\n",
    "cfg.data.test.type = \"CocoOtcDataset\"\n",
    "if cfg.get('custom_imports', None):\n",
    "    from mmcv.utils import import_modules_from_strings\n",
    "    import_modules_from_strings(**cfg['custom_imports'])\n",
    "\n",
    "cfg.data.test.pop('samples_per_gpu', 0)\n",
    "cfg.data.test.pipeline = get_loading_pipeline(cfg.data.train.pipeline)\n",
    "dataset = build_dataset(cfg.data.test)"
   ]
  },
  {
   "cell_type": "code",
   "execution_count": 9,
   "metadata": {},
   "outputs": [
    {
     "name": "stdout",
     "output_type": "stream",
     "text": [
      "https://app.neptune.ai/mayu-ot/eval-detection/e/EV-114\n",
      "Remember to stop your run once you’ve finished logging your metadata (https://docs.neptune.ai/api-reference/run#stop). It will be stopped automatically only when the notebook kernel/interactive console is terminated.\n",
      "Shutting down background jobs, please wait a moment...\n",
      "Done!\n",
      "OTC DONE (t=137.50s).\n",
      "https://app.neptune.ai/mayu-ot/eval-detection/e/EV-114\n",
      "Remember to stop your run once you’ve finished logging your metadata (https://docs.neptune.ai/api-reference/run#stop). It will be stopped automatically only when the notebook kernel/interactive console is terminated.\n",
      "Shutting down background jobs, please wait a moment...\n",
      "Done!\n",
      "OTC DONE (t=69.38s).\n",
      "https://app.neptune.ai/mayu-ot/eval-detection/e/EV-114\n",
      "Remember to stop your run once you’ve finished logging your metadata (https://docs.neptune.ai/api-reference/run#stop). It will be stopped automatically only when the notebook kernel/interactive console is terminated.\n",
      "Shutting down background jobs, please wait a moment...\n",
      "Done!\n",
      "OTC DONE (t=14.35s).\n",
      "https://app.neptune.ai/mayu-ot/eval-detection/e/EV-114\n",
      "Remember to stop your run once you’ve finished logging your metadata (https://docs.neptune.ai/api-reference/run#stop). It will be stopped automatically only when the notebook kernel/interactive console is terminated.\n",
      "Shutting down background jobs, please wait a moment...\n",
      "Done!\n",
      "OTC DONE (t=15.03s).\n",
      "https://app.neptune.ai/mayu-ot/eval-detection/e/EV-114\n",
      "Remember to stop your run once you’ve finished logging your metadata (https://docs.neptune.ai/api-reference/run#stop). It will be stopped automatically only when the notebook kernel/interactive console is terminated.\n",
      "Shutting down background jobs, please wait a moment...\n",
      "Done!\n",
      "OTC DONE (t=16.09s).\n"
     ]
    }
   ],
   "source": [
    "oc_costs = {}\n",
    "results = {}\n",
    "for model_name in [\"DETR\", \"Faster-RCNN\", \"VFNet\", \"RetinaNet\", \"YOLOF\"]:\n",
    "    results[model_name] = load_results(\"EV-114\", model_name)\n",
    "    oc_costs[model_name] = dataset.eval_OTC(results[model_name], alpha=0.5, beta=0.6, get_average=False)\n",
    "    "
   ]
  },
  {
   "cell_type": "code",
   "execution_count": 17,
   "metadata": {},
   "outputs": [
    {
     "data": {
      "text/plain": [
       "<seaborn.axisgrid.FacetGrid at 0x7f29c706fe90>"
      ]
     },
     "execution_count": 17,
     "metadata": {},
     "output_type": "execute_result"
    },
    {
     "data": {
      "image/png": "[encoded data removed]",
      "text/plain": [
       "<Figure size 1080x360 with 3 Axes>"
      ]
     },
     "metadata": {},
     "output_type": "display_data"
    }
   ],
   "source": [
    "custom_params = {\"axes.spines.right\": False, \"axes.spines.top\": False}\n",
    "sns.set_theme(style=\"ticks\", rc=custom_params)\n",
    "cp = sns.cubehelix_palette(rot=-.4)\n",
    "data = {\"model\": [], \"OC-cost\": []}\n",
    "for k, costs in oc_costs.items():\n",
    "    if k not in [\"VFNet\", \"RetinaNet\", \"YOLOF\"]:\n",
    "        continue\n",
    "    data[\"model\"] += [k] * len(costs)\n",
    "    data[\"OC-cost\"] += [x for x in costs]\n",
    "df = pd.DataFrame(data)\n",
    "g = sns.displot(data=df, x=\"OC-cost\", col=\"model\", color=cp[2])\n",
    "g.set_titles(\"{col_name}\")"
   ]
  },
  {
   "cell_type": "code",
   "execution_count": 39,
   "metadata": {},
   "outputs": [
    {
     "name": "stdout",
     "output_type": "stream",
     "text": [
      "0\n",
      "0.012255385518074036\n",
      "0.017538338899612427\n",
      "0.021761402487754822\n",
      "0.024912774562835693\n",
      "0.02814222127199173\n",
      "0.031095080077648163\n",
      "0.03429914265871048\n",
      "0.037883855402469635\n",
      "0.041401371359825134\n",
      "0.04476293921470642\n",
      "0.0476861298084259\n",
      "0.051327183842659\n",
      "0.053902022540569305\n",
      "0.05683474242687225\n",
      "0.06050485670566559\n",
      "0.06447492043177286\n",
      "0.06869617601235707\n",
      "0.07356946170330046\n",
      "0.07920773327350616\n",
      "0.08361209183931351\n",
      "0.0900960514942805\n",
      "0.0963679850101471\n",
      "0.10450515896081924\n",
      "0.11584096401929855\n",
      "0.1266394754250844\n",
      "0.1380992978811264\n",
      "0.14871232956647873\n",
      "0.15803681976265377\n",
      "0.16680337607860563\n",
      "0.1749495878815651\n",
      "0.18296390984739574\n",
      "0.18898999512195586\n",
      "0.19835855215787887\n",
      "0.20456470966339108\n",
      "0.21225364463669916\n",
      "0.21762708909809592\n",
      "0.2220507823608138\n",
      "0.22557062606016792\n",
      "0.22951208998759584\n",
      "0.23454864110265455\n",
      "0.23819688984325954\n",
      "0.24311203750280236\n",
      "0.2470677385727565\n",
      "0.251154912263155\n",
      "0.2552182247241338\n",
      "0.25987887879212695\n",
      "0.2635350743929545\n",
      "0.26893798361221943\n",
      "0.27474408209323886\n",
      "0.2787408103545506\n",
      "0.2828103977441788\n",
      "0.28699307938416796\n",
      "0.29153209567070004\n",
      "0.29600203469395636\n",
      "0.30128903885682423\n",
      "0.30501778960227965\n",
      "0.3088662967085838\n",
      "0.31170771519343055\n",
      "0.3142526291310787\n",
      "0.3163933718746359\n",
      "0.31887332648038863\n",
      "0.3215650031441137\n",
      "0.32483174204826354\n",
      "0.3287906564772129\n",
      "0.33179985533157985\n",
      "0.3350842673331499\n",
      "0.3383729711174965\n",
      "0.34168177922566734\n",
      "0.34544848948717116\n",
      "0.3497821047902107\n",
      "0.3531210717402006\n",
      "0.3582335859537124\n",
      "0.3619656965136528\n",
      "0.3672137360681187\n",
      "0.37199354966481524\n",
      "0.37631269469857215\n",
      "0.38190787321045283\n",
      "0.38697821259498594\n",
      "0.3918852880597114\n",
      "0.39704351045868613\n",
      "0.40333990028926314\n",
      "0.40839001536369324\n",
      "0.4128231525421142\n",
      "0.41749252287241123\n",
      "0.4215599578969619\n",
      "0.4278824022183051\n",
      "0.43385905027389526\n",
      "0.43965448276563124\n",
      "0.44580880602200823\n",
      "0.45513293462140214\n",
      "0.4619316945473353\n",
      "0.4696746640164276\n",
      "0.47861263453960423\n",
      "0.48774225443601604\n",
      "0.500113809960229\n",
      "0.5130499184131623\n",
      "0.53748727714022\n",
      "0.5756987495081765\n",
      "0.6\n"
     ]
    }
   ],
   "source": [
    "def cvrt_result(bbox_result):\n",
    "    labels = [\n",
    "        np.full(bbox.shape[0], i, dtype=np.int32)\n",
    "        for i, bbox in enumerate(bbox_result)\n",
    "    ]\n",
    "    labels = np.concatenate(labels)\n",
    "    bboxes = np.vstack(bbox_result)\n",
    "    return bboxes, labels\n",
    "\n",
    "cb_p = sns.color_palette(\"colorblind\")\n",
    "det_c = (np.asarray(cb_p[2])*255).astype(np.uint8)[::-1]\n",
    "gt_c = (np.asarray(cb_p[3])*255).astype(np.uint8)[::-1]\n",
    "\n",
    "sorted_idx = np.argsort([x for x in oc_costs[\"VFNet\"]])\n",
    "\n",
    "for s_idx in sorted_idx[::50]:\n",
    "    dets = results[\"VFNet\"][s_idx]\n",
    "    cost = oc_costs[\"VFNet\"][s_idx]\n",
    "    data_info = dataset.prepare_train_img(s_idx)\n",
    "    print(cost)\n",
    "    im = imshow_gt_det_bboxes(\n",
    "        data_info[\"img\"], \n",
    "        data_info, \n",
    "        dets, \n",
    "        class_names=dataset.CLASSES, \n",
    "        det_bbox_color=det_c, \n",
    "        det_text_color=det_c,\n",
    "        gt_bbox_color=gt_c, \n",
    "        gt_text_color=gt_c,\n",
    "        thickness=3,\n",
    "        font_size=18, \n",
    "        score_thr=0.,\n",
    "        show=False)\n",
    "    plt.imsave(f\"outputs/figs/realworld_examples/examples/{float(cost):.4}-{data_info['img_info']['id']}.png\", im[:,:,::-1])"
   ]
  },
  {
   "cell_type": "code",
   "execution_count": null,
   "metadata": {},
   "outputs": [],
   "source": []
  }
 ],
 "metadata": {
  "interpreter": {
   "hash": "a60f4c539d427c50f9e364dcdb29771d2ef7e4abf05f239bf1379c4bf85f89a1"
  },
  "kernelspec": {
   "display_name": "Python 3.7.10 64-bit ('obj-detect-analysis': conda)",
   "name": "python3"
  },
  "language_info": {
   "codemirror_mode": {
    "name": "ipython",
    "version": 3
   },
   "file_extension": ".py",
   "mimetype": "text/x-python",
   "name": "python",
   "nbconvert_exporter": "python",
   "pygments_lexer": "ipython3",
   "version": "3.7.10"
  },
  "orig_nbformat": 4
 },
 "nbformat": 4,
 "nbformat_minor": 2
}
