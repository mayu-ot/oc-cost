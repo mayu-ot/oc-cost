{
 "cells": [
  {
   "cell_type": "code",
   "execution_count": 1,
   "source": [
    "%cd ../../"
   ],
   "outputs": [
    {
     "output_type": "stream",
     "name": "stdout",
     "text": [
      "/mnt/sda/otani/Experiments/eval-detection\n"
     ]
    }
   ],
   "metadata": {}
  },
  {
   "cell_type": "code",
   "execution_count": 3,
   "source": [
    "import csv\n",
    "import os\n",
    "import numpy as np\n",
    "\n",
    "from mim.utils import DEFAULT_CACHE_DIR\n",
    "import os\n",
    "import mmcv\n",
    "from mmcv.utils.config import Config\n",
    "import numpy as np\n",
    "import pandas as pd\n",
    "from src.extensions.metrics.ot_cost import get_ot_cost, get_cmap\n",
    "from src.utils import krippendorff\n",
    "\n",
    "from src.extensions.dataset.coco_custom import CocoOtcDataset\n",
    "from tqdm import tqdm\n",
    "import matplotlib.pyplot as plt\n",
    "from shutil import copyfile\n",
    "\n",
    "from concurrent.futures import ProcessPoolExecutor, as_completed\n",
    "%matplotlib inline"
   ],
   "outputs": [],
   "metadata": {}
  },
  {
   "cell_type": "code",
   "execution_count": 26,
   "source": [
    "ab2idx = {\"A\":0, \"B\": 1}\n",
    "data = {f\"user_{i+1}\": [] for i in range(3)}\n",
    "for k in data.keys():\n",
    "    base_dir = f\"data/raw/user_study/{k}/\"\n",
    "    files = os.listdir(base_dir)\n",
    "    files.sort()\n",
    "    for j in np.arange(1, 1100, 100):\n",
    "        fn = f\"{j}-{j+99}.csv\"\n",
    "        print(fn)\n",
    "        data[k] += [ab2idx.get(row[-1], np.nan) for row in csv.reader(open(f\"{base_dir}/{fn}\"))]\n"
   ],
   "outputs": [
    {
     "output_type": "stream",
     "name": "stdout",
     "text": [
      "1-100.csv\n",
      "101-200.csv\n",
      "201-300.csv\n",
      "301-400.csv\n",
      "401-500.csv\n",
      "501-600.csv\n",
      "601-700.csv\n",
      "701-800.csv\n",
      "801-900.csv\n",
      "901-1000.csv\n",
      "1001-1100.csv\n",
      "1-100.csv\n",
      "101-200.csv\n",
      "201-300.csv\n",
      "301-400.csv\n",
      "401-500.csv\n",
      "501-600.csv\n",
      "601-700.csv\n",
      "701-800.csv\n",
      "801-900.csv\n",
      "901-1000.csv\n",
      "1001-1100.csv\n",
      "1-100.csv\n",
      "101-200.csv\n",
      "201-300.csv\n",
      "301-400.csv\n",
      "401-500.csv\n",
      "501-600.csv\n",
      "601-700.csv\n",
      "701-800.csv\n",
      "801-900.csv\n",
      "901-1000.csv\n",
      "1001-1100.csv\n"
     ]
    }
   ],
   "metadata": {}
  },
  {
   "cell_type": "code",
   "execution_count": 27,
   "source": [
    "# check missing data\n",
    "for k, v in data.items():\n",
    "    for i, c in enumerate(data[k]):\n",
    "        if c is np.nan:\n",
    "            print(k, i)"
   ],
   "outputs": [
    {
     "output_type": "stream",
     "name": "stdout",
     "text": [
      "user_3 767\n"
     ]
    }
   ],
   "metadata": {}
  },
  {
   "cell_type": "code",
   "execution_count": 28,
   "source": [
    "reliability_data = [v for v in data.values()]\n",
    "krippendorff.alpha(reliability_data=reliability_data, level_of_measurement=\"nominal\")"
   ],
   "outputs": [
    {
     "output_type": "execute_result",
     "data": {
      "text/plain": [
       "0.3572125944841349"
      ]
     },
     "metadata": {},
     "execution_count": 28
    }
   ],
   "metadata": {}
  },
  {
   "cell_type": "code",
   "execution_count": 35,
   "source": [
    "np.isnan(selected)"
   ],
   "outputs": [
    {
     "output_type": "execute_result",
     "data": {
      "text/plain": [
       "True"
      ]
     },
     "metadata": {},
     "execution_count": 35
    }
   ],
   "metadata": {}
  },
  {
   "cell_type": "code",
   "execution_count": 45,
   "source": [
    "input_data = [row[:2] for row in csv.reader(open(\"data/raw/user_study/inputs.csv\"))]\n",
    "selected_sys = {k: [] for k in data.keys()}\n",
    "for k, u_data in data.items():\n",
    "    for detectors, selected in zip(input_data, u_data):\n",
    "        \n",
    "        if np.isnan(selected):\n",
    "            c = np.nan\n",
    "        else:\n",
    "            c = detectors[selected]\n",
    "        selected_sys[k].append(c)\n",
    "\n",
    "n = len(input_data)\n",
    "n_disagree = 0\n",
    "for i in range(n):\n",
    "    n_yolof = [v[i] for v in selected_sys.values()].count(\"yolof\")\n",
    "    if (n_yolof!=0) and (n_yolof!=len(data)):\n",
    "        n_disagree += 1\n",
    "\n",
    "print(f\"n-disagree {n_disagree}/{n} ({n_disagree/n})\")\n",
    "\n",
    "ref_is_yolof_better = []\n",
    "for i in range(n):\n",
    "    n_yolof = [v[i] for v in selected_sys.values()].count(\"yolof\")\n",
    "    n_retinanet = [v[i] for v in selected_sys.values()].count(\"retinanet\")\n",
    "    ref_is_yolof_better.append(n_yolof > n_retinanet)\n",
    "\n",
    "print(ref_is_yolof_better[:15])\n"
   ],
   "outputs": [
    {
     "output_type": "stream",
     "name": "stdout",
     "text": [
      "n-disagree 510/1057 (0.4824976348155156)\n",
      "[True, True, True, True, True, False, True, True, True, True, True, True, True, True, True]\n"
     ]
    }
   ],
   "metadata": {}
  },
  {
   "cell_type": "code",
   "execution_count": 41,
   "source": [
    "retina_res = mmcv.load(\"outputs/otc_search_param_candidates/20211027_003051/RetinaNet.pkl\")\n",
    "yolof_res = mmcv.load(\"outputs/otc_search_param_candidates/20211027_003051/YOLOF.pkl\")\n",
    "model_cfg = \"retinanet_r50_fpn_2x_coco\"\n",
    "cfg = cfg = Config.fromfile(os.path.join(DEFAULT_CACHE_DIR, model_cfg + \".py\"))\n",
    "data_cfg = cfg.data\n",
    "dataset = CocoOtcDataset(\n",
    "    \"data/coco/annotations/instances_val2017.json\",\n",
    "    data_cfg.test.pipeline,\n",
    "    test_mode=True,\n",
    ")"
   ],
   "outputs": [
    {
     "output_type": "stream",
     "name": "stdout",
     "text": [
      "loading annotations into memory...\n",
      "Done (t=0.57s)\n",
      "creating index...\n",
      "index created!\n"
     ]
    }
   ],
   "metadata": {}
  },
  {
   "cell_type": "code",
   "execution_count": 42,
   "source": [
    "img_ids = os.listdir(\"data/processed/user_study/YOLOF\")\n",
    "img_ids.sort()\n",
    "selected_indexes = [dataset.img_ids.index(int(x[:-4])) for x in img_ids]\n",
    "retina_res = [retina_res[i] for i in selected_indexes]\n",
    "yolof_res = [yolof_res[i] for i in selected_indexes]\n",
    "gts = dataset.get_gts()\n",
    "gts = [gts[i] for i in selected_indexes]"
   ],
   "outputs": [],
   "metadata": {}
  },
  {
   "cell_type": "code",
   "execution_count": 46,
   "source": [
    "def get_accuracy(selected_sys, cost_a, cost_b):\n",
    "    agree_counts = 0\n",
    "    n = len(cost_a)\n",
    "    for i in range(n):\n",
    "        c = \"retinanet\" if cost_a[i] < cost_b[i] else \"yolof\"\n",
    "        agree_counts += np.mean([v[i]==c for v in selected_sys.values()])\n",
    "    return agree_counts\n",
    "\n",
    "        \n",
    "best_acc = 0\n",
    "best_param = {}\n",
    "\n",
    "step = 0.2\n",
    "for p in np.arange(0.1, 0.99, step):\n",
    "    for q in np.arange(0.1, 0.99, step):\n",
    "        cmap_func = lambda x, y: get_cmap(\n",
    "                    x, y, alpha=p, beta=q, mode=\"giou\", use_dummy=True\n",
    "                )\n",
    "        retina_cc = [get_ot_cost(x, y, cmap_func) for x, y in zip(gts, retina_res)]\n",
    "        yolof_cc = [get_ot_cost(x, y, cmap_func) for x, y in zip(gts, yolof_res)]\n",
    "        is_yolof_better = [x > y for x, y in zip(retina_cc, yolof_cc)]\n",
    "\n",
    "        acc = np.mean([x == y for x, y in zip(is_yolof_better, ref_is_yolof_better)])\n",
    "        \n",
    "        print(f\"alpha={p:.2}, beta={q:.2}: acc={acc:.3}\")\n",
    "        if acc > best_acc:\n",
    "            best_acc = acc\n",
    "            best_param = {\"alpha\": p, \"beta\": q}"
   ],
   "outputs": [
    {
     "output_type": "stream",
     "name": "stdout",
     "text": [
      "alpha=0.1, beta=0.1: acc=0.299\n",
      "alpha=0.1, beta=0.3: acc=0.36\n",
      "alpha=0.1, beta=0.5: acc=0.694\n",
      "alpha=0.1, beta=0.7: acc=0.734\n",
      "alpha=0.1, beta=0.9: acc=0.709\n",
      "alpha=0.3, beta=0.1: acc=0.29\n",
      "alpha=0.3, beta=0.3: acc=0.466\n",
      "alpha=0.3, beta=0.5: acc=0.732\n",
      "alpha=0.3, beta=0.7: acc=0.729\n",
      "alpha=0.3, beta=0.9: acc=0.708\n",
      "alpha=0.5, beta=0.1: acc=0.298\n",
      "alpha=0.5, beta=0.3: acc=0.585\n",
      "alpha=0.5, beta=0.5: acc=0.739\n",
      "alpha=0.5, beta=0.7: acc=0.728\n",
      "alpha=0.5, beta=0.9: acc=0.713\n",
      "alpha=0.7, beta=0.1: acc=0.331\n",
      "alpha=0.7, beta=0.3: acc=0.665\n",
      "alpha=0.7, beta=0.5: acc=0.732\n",
      "alpha=0.7, beta=0.7: acc=0.729\n",
      "alpha=0.7, beta=0.9: acc=0.712\n",
      "alpha=0.9, beta=0.1: acc=0.437\n",
      "alpha=0.9, beta=0.3: acc=0.664\n",
      "alpha=0.9, beta=0.5: acc=0.72\n",
      "alpha=0.9, beta=0.7: acc=0.724\n",
      "alpha=0.9, beta=0.9: acc=0.712\n"
     ]
    }
   ],
   "metadata": {}
  },
  {
   "cell_type": "code",
   "execution_count": 48,
   "source": [
    "best_acc, best_param"
   ],
   "outputs": [
    {
     "output_type": "execute_result",
     "data": {
      "text/plain": [
       "(0.738883632923368, {'alpha': 0.5000000000000001, 'beta': 0.5000000000000001})"
      ]
     },
     "metadata": {},
     "execution_count": 48
    }
   ],
   "metadata": {}
  },
  {
   "cell_type": "code",
   "execution_count": null,
   "source": [],
   "outputs": [],
   "metadata": {}
  }
 ],
 "metadata": {
  "orig_nbformat": 4,
  "language_info": {
   "name": "python",
   "version": "3.7.10",
   "mimetype": "text/x-python",
   "codemirror_mode": {
    "name": "ipython",
    "version": 3
   },
   "pygments_lexer": "ipython3",
   "nbconvert_exporter": "python",
   "file_extension": ".py"
  },
  "kernelspec": {
   "name": "python3",
   "display_name": "Python 3.7.10 64-bit ('obj-detect-analysis': conda)"
  },
  "interpreter": {
   "hash": "e2471993c4d62ae9b575753f4c2b946064f5b3981ce348b4506b63cd1f97a093"
  }
 },
 "nbformat": 4,
 "nbformat_minor": 2
}