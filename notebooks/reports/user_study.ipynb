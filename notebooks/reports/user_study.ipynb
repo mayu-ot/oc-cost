{
 "cells": [
  {
   "cell_type": "code",
   "execution_count": 1,
   "metadata": {},
   "outputs": [
    {
     "name": "stdout",
     "output_type": "stream",
     "text": [
      "/mnt/sda/otani/Experiments/eval-detection\n"
     ]
    }
   ],
   "source": [
    "%cd ../../"
   ]
  },
  {
   "cell_type": "code",
   "execution_count": 2,
   "metadata": {},
   "outputs": [],
   "source": [
    "import csv\n",
    "import os\n",
    "import numpy as np\n",
    "\n",
    "from mim.utils import DEFAULT_CACHE_DIR\n",
    "import os\n",
    "import mmcv\n",
    "from mmcv.utils.config import Config\n",
    "import numpy as np\n",
    "import pandas as pd\n",
    "from src.extensions.metrics.ot_cost import get_ot_cost, get_cmap\n",
    "from src.utils import krippendorff\n",
    "from src.utils import map_single\n",
    "from mmdet.core.visualization.image import imshow_gt_det_bboxes, imshow_det_bboxes\n",
    "\n",
    "from src.extensions.dataset.coco_custom import CocoOtcDataset\n",
    "from tqdm import tqdm\n",
    "import matplotlib.pyplot as plt\n",
    "import seaborn as sns\n",
    "from shutil import copyfile\n",
    "from mmdet.datasets import build_dataset, get_loading_pipeline\n",
    "\n",
    "from src.utils import  visualization\n",
    "\n",
    "%matplotlib inline"
   ]
  },
  {
   "cell_type": "code",
   "execution_count": 3,
   "metadata": {},
   "outputs": [],
   "source": [
    "ab2idx = {\"A\":0, \"B\": 1}\n",
    "data = []\n",
    "for k in [\"user_1\", \"user_2\", \"user_3\"]:\n",
    "    base_dir = f\"data/raw/user_study/{k}/\"\n",
    "    user_judge = []\n",
    "    for j in np.arange(1, 1100, 100):\n",
    "        fn = f\"{j}-{j+99}.csv\"\n",
    "        user_judge += [ab2idx.get(row[-1], np.nan) for row in csv.reader(open(f\"{base_dir}/{fn}\"))]\n",
    "    data.append(user_judge)"
   ]
  },
  {
   "cell_type": "code",
   "execution_count": 4,
   "metadata": {},
   "outputs": [
    {
     "name": "stdout",
     "output_type": "stream",
     "text": [
      "2 767\n"
     ]
    }
   ],
   "source": [
    "# check missing data\n",
    "for j, v in enumerate(data):\n",
    "    for i, c in enumerate(v):\n",
    "        if c is np.nan:\n",
    "            print(j, i)"
   ]
  },
  {
   "cell_type": "code",
   "execution_count": 5,
   "metadata": {},
   "outputs": [
    {
     "name": "stdout",
     "output_type": "stream",
     "text": [
      "all: 0.357\n",
      "skip-0: 0.462\n",
      "skip-1: 0.273\n",
      "skip-2: 0.337\n",
      "skip user 0\n",
      "validation 0.4615240907800807\n"
     ]
    }
   ],
   "source": [
    "reliability_data = data\n",
    "alpha = krippendorff.alpha(reliability_data=data, level_of_measurement=\"nominal\")\n",
    "print(f\"all: {alpha:.3}\")\n",
    "\n",
    "skip_user = 0\n",
    "alpha_max = 0\n",
    "for skip in range(len(data)):\n",
    "    one_out_data = [v for i, v in enumerate(data) if i!=skip]\n",
    "    alpha = krippendorff.alpha(reliability_data=one_out_data, level_of_measurement=\"nominal\")\n",
    "    print(f\"skip-{skip}: {alpha:.3}\")\n",
    "    if alpha > alpha_max:\n",
    "        alpha_max = alpha\n",
    "        skip_user = skip\n",
    "print(\"skip user\", skip_user)\n",
    "data =  [v for i, v in enumerate(data) if i!=skip_user]\n",
    "alpha = krippendorff.alpha(reliability_data=data, level_of_measurement=\"nominal\")\n",
    "print(\"validation\", alpha)"
   ]
  },
  {
   "cell_type": "code",
   "execution_count": 6,
   "metadata": {},
   "outputs": [
    {
     "name": "stdout",
     "output_type": "stream",
     "text": [
      "yolof 623 vs retinanet 149\n"
     ]
    },
    {
     "data": {
      "text/html": [
       "<div>\n",
       "<style scoped>\n",
       "    .dataframe tbody tr th:only-of-type {\n",
       "        vertical-align: middle;\n",
       "    }\n",
       "\n",
       "    .dataframe tbody tr th {\n",
       "        vertical-align: top;\n",
       "    }\n",
       "\n",
       "    .dataframe thead th {\n",
       "        text-align: right;\n",
       "    }\n",
       "</style>\n",
       "<table border=\"1\" class=\"dataframe\">\n",
       "  <thead>\n",
       "    <tr style=\"text-align: right;\">\n",
       "      <th></th>\n",
       "      <th>img</th>\n",
       "      <th>selected_det</th>\n",
       "    </tr>\n",
       "  </thead>\n",
       "  <tbody>\n",
       "    <tr>\n",
       "      <th>0</th>\n",
       "      <td>000000000632</td>\n",
       "      <td>yolof</td>\n",
       "    </tr>\n",
       "    <tr>\n",
       "      <th>1</th>\n",
       "      <td>000000000785</td>\n",
       "      <td>yolof</td>\n",
       "    </tr>\n",
       "    <tr>\n",
       "      <th>2</th>\n",
       "      <td>000000001268</td>\n",
       "      <td>yolof</td>\n",
       "    </tr>\n",
       "    <tr>\n",
       "      <th>3</th>\n",
       "      <td>000000001490</td>\n",
       "      <td>yolof</td>\n",
       "    </tr>\n",
       "    <tr>\n",
       "      <th>4</th>\n",
       "      <td>000000001584</td>\n",
       "      <td>yolof</td>\n",
       "    </tr>\n",
       "  </tbody>\n",
       "</table>\n",
       "</div>"
      ],
      "text/plain": [
       "            img selected_det\n",
       "0  000000000632        yolof\n",
       "1  000000000785        yolof\n",
       "2  000000001268        yolof\n",
       "3  000000001490        yolof\n",
       "4  000000001584        yolof"
      ]
     },
     "execution_count": 6,
     "metadata": {},
     "output_type": "execute_result"
    }
   ],
   "source": [
    "input_data = [row[:2] for row in csv.reader(open(\"data/raw/user_study/inputs.csv\"))]\n",
    "with open(\"data/raw/user_study/image_names.txt\") as f:\n",
    "    img_names = [line.split(\".\")[0] for line in f]\n",
    "\n",
    "selected_dets = []\n",
    "for v in data:\n",
    "    selected_det = []\n",
    "    for x, choices in zip(v, input_data):\n",
    "        if not np.isnan(x):\n",
    "            selected_det.append(choices[x])\n",
    "        else:\n",
    "            selected_det.append(np.nan)\n",
    "    selected_dets.append(selected_det)\n",
    "selected_dets = np.asarray(selected_dets)\n",
    "\n",
    "N = len(selected_dets[0])\n",
    "is_agree = [i for i in range(N) if selected_dets[0][i] == selected_dets[1][i]]\n",
    "selected_dets = selected_dets[0, is_agree]\n",
    "img_names = [img_names[i] for i in is_agree]\n",
    "print(f\"yolof {(selected_dets=='yolof').sum()} vs retinanet {(selected_dets=='retinanet').sum()}\")\n",
    "\n",
    "anno_data = pd.DataFrame({\"img\": img_names, \"selected_det\": selected_dets})\n",
    "anno_data.head()\n"
   ]
  },
  {
   "cell_type": "code",
   "execution_count": 7,
   "metadata": {},
   "outputs": [
    {
     "name": "stdout",
     "output_type": "stream",
     "text": [
      "loading annotations into memory...\n",
      "Done (t=0.56s)\n",
      "creating index...\n",
      "index created!\n"
     ]
    }
   ],
   "source": [
    "retina_res = mmcv.load(\"outputs/otc_search_param_candidates/20211027_003051/RetinaNet.pkl\")\n",
    "yolof_res = mmcv.load(\"outputs/otc_search_param_candidates/20211027_003051/YOLOF.pkl\")\n",
    "model_cfg = \"retinanet_r50_fpn_2x_coco\"\n",
    "\n",
    "cfg = Config.fromfile(os.path.join(DEFAULT_CACHE_DIR, model_cfg + \".py\"))\n",
    "cfg.data.test.type=\"CocoOtcDataset\"\n",
    "cfg.data.test.test_mode = True\n",
    "cfg.data.test.pop('samples_per_gpu', 0)\n",
    "cfg.data.test.pipeline = get_loading_pipeline(cfg.data.train.pipeline)\n",
    "dataset = build_dataset(cfg.data.test)\n",
    "\n",
    "selected_indexes = [dataset.img_ids.index(int(x)) for x in anno_data[\"img\"].values]\n",
    "retina_res = [retina_res[i] for i in selected_indexes]\n",
    "yolof_res = [yolof_res[i] for i in selected_indexes]\n",
    "gts = dataset.get_gts()\n",
    "gts = [gts[i] for i in selected_indexes]"
   ]
  },
  {
   "cell_type": "code",
   "execution_count": 42,
   "metadata": {},
   "outputs": [
    {
     "name": "stderr",
     "output_type": "stream",
     "text": [
      "/home/otani_mayu/miniconda3/envs/obj-detect-analysis/lib/python3.7/site-packages/ipykernel_launcher.py:22: DeprecationWarning: In future, it will be an error for 'np.bool_' scalars to be interpreted as an index\n"
     ]
    },
    {
     "name": "stdout",
     "output_type": "stream",
     "text": [
      "alpha=0.1, beta=0.1: acc=0.242\n",
      "alpha=0.1, beta=0.2: acc=0.218\n",
      "alpha=0.1, beta=0.3: acc=0.311\n",
      "alpha=0.1, beta=0.4: acc=0.633\n",
      "alpha=0.1, beta=0.5: acc=0.744\n",
      "alpha=0.1, beta=0.6: acc=0.773\n",
      "alpha=0.1, beta=0.7: acc=0.794\n",
      "alpha=0.1, beta=0.8: acc=0.79\n",
      "alpha=0.1, beta=0.9: acc=0.78\n",
      "alpha=0.2, beta=0.1: acc=0.237\n",
      "alpha=0.2, beta=0.2: acc=0.224\n",
      "alpha=0.2, beta=0.3: acc=0.387\n",
      "alpha=0.2, beta=0.4: acc=0.665\n",
      "alpha=0.2, beta=0.5: acc=0.78\n",
      "alpha=0.2, beta=0.6: acc=0.795\n",
      "alpha=0.2, beta=0.7: acc=0.798\n",
      "alpha=0.2, beta=0.8: acc=0.786\n",
      "alpha=0.2, beta=0.9: acc=0.782\n",
      "alpha=0.3, beta=0.1: acc=0.227\n",
      "alpha=0.3, beta=0.2: acc=0.237\n",
      "alpha=0.3, beta=0.3: acc=0.439\n",
      "alpha=0.3, beta=0.4: acc=0.711\n",
      "alpha=0.3, beta=0.5: acc=0.79\n",
      "alpha=0.3, beta=0.6: acc=0.801\n",
      "alpha=0.3, beta=0.7: acc=0.795\n",
      "alpha=0.3, beta=0.8: acc=0.786\n",
      "alpha=0.3, beta=0.9: acc=0.78\n",
      "alpha=0.4, beta=0.1: acc=0.234\n",
      "alpha=0.4, beta=0.2: acc=0.249\n",
      "alpha=0.4, beta=0.3: acc=0.538\n",
      "alpha=0.4, beta=0.4: acc=0.727\n",
      "alpha=0.4, beta=0.5: acc=0.803\n",
      "alpha=0.4, beta=0.6: acc=0.804\n",
      "alpha=0.4, beta=0.7: acc=0.791\n",
      "alpha=0.4, beta=0.8: acc=0.784\n",
      "alpha=0.4, beta=0.9: acc=0.786\n",
      "alpha=0.5, beta=0.1: acc=0.233\n",
      "alpha=0.5, beta=0.2: acc=0.291\n",
      "alpha=0.5, beta=0.3: acc=0.582\n",
      "alpha=0.5, beta=0.4: acc=0.745\n",
      "alpha=0.5, beta=0.5: acc=0.795\n",
      "alpha=0.5, beta=0.6: acc=0.806\n",
      "alpha=0.5, beta=0.7: acc=0.79\n",
      "alpha=0.5, beta=0.8: acc=0.791\n",
      "alpha=0.5, beta=0.9: acc=0.785\n",
      "alpha=0.6, beta=0.1: acc=0.249\n",
      "alpha=0.6, beta=0.2: acc=0.364\n",
      "alpha=0.6, beta=0.3: acc=0.642\n",
      "alpha=0.6, beta=0.4: acc=0.762\n",
      "alpha=0.6, beta=0.5: acc=0.793\n",
      "alpha=0.6, beta=0.6: acc=0.795\n",
      "alpha=0.6, beta=0.7: acc=0.797\n",
      "alpha=0.6, beta=0.8: acc=0.793\n",
      "alpha=0.6, beta=0.9: acc=0.785\n",
      "alpha=0.7, beta=0.1: acc=0.268\n",
      "alpha=0.7, beta=0.2: acc=0.431\n",
      "alpha=0.7, beta=0.3: acc=0.684\n",
      "alpha=0.7, beta=0.4: acc=0.769\n",
      "alpha=0.7, beta=0.5: acc=0.793\n",
      "alpha=0.7, beta=0.6: acc=0.79\n",
      "alpha=0.7, beta=0.7: acc=0.794\n",
      "alpha=0.7, beta=0.8: acc=0.793\n",
      "alpha=0.7, beta=0.9: acc=0.786\n",
      "alpha=0.8, beta=0.1: acc=0.303\n",
      "alpha=0.8, beta=0.2: acc=0.504\n",
      "alpha=0.8, beta=0.3: acc=0.701\n",
      "alpha=0.8, beta=0.4: acc=0.767\n",
      "alpha=0.8, beta=0.5: acc=0.794\n",
      "alpha=0.8, beta=0.6: acc=0.79\n",
      "alpha=0.8, beta=0.7: acc=0.791\n",
      "alpha=0.8, beta=0.8: acc=0.79\n",
      "alpha=0.8, beta=0.9: acc=0.79\n",
      "alpha=0.9, beta=0.1: acc=0.398\n",
      "alpha=0.9, beta=0.2: acc=0.569\n",
      "alpha=0.9, beta=0.3: acc=0.701\n",
      "alpha=0.9, beta=0.4: acc=0.763\n",
      "alpha=0.9, beta=0.5: acc=0.781\n",
      "alpha=0.9, beta=0.6: acc=0.784\n",
      "alpha=0.9, beta=0.7: acc=0.789\n",
      "alpha=0.9, beta=0.8: acc=0.788\n",
      "alpha=0.9, beta=0.9: acc=0.785\n"
     ]
    },
    {
     "data": {
      "text/plain": [
       "(0.805699481865285, {'alpha': 0.5, 'beta': 0.6})"
      ]
     },
     "execution_count": 42,
     "metadata": {},
     "output_type": "execute_result"
    }
   ],
   "source": [
    "best_acc = 0\n",
    "best_param = {}\n",
    "hptune_trials = {\"alpha\": [], \"beta\": [], \"acc\": []}\n",
    "\n",
    "step = 0.1\n",
    "for p in np.arange(0.1, 0.99, step):\n",
    "    for q in np.arange(0.1, 0.99, step):\n",
    "        cmap_func = lambda x, y: get_cmap(\n",
    "                    x, y, alpha=p, beta=q, mode=\"giou\", use_dummy=True\n",
    "                )\n",
    "        retina_cc = [get_ot_cost(x, y, cmap_func) for x, y in zip(gts, retina_res)]\n",
    "        yolof_cc = [get_ot_cost(x, y, cmap_func) for x, y in zip(gts, yolof_res)]\n",
    "        cc_judge = [[\"retinanet\", \"yolof\"][x > y] for x, y in zip(retina_cc, yolof_cc)]\n",
    "        acc = np.mean(np.asarray(cc_judge) == anno_data[\"selected_det\"].values)\n",
    "        \n",
    "        print(f\"alpha={p:.2}, beta={q:.2}: acc={acc:.3}\")\n",
    "        hptune_trials[\"alpha\"].append(p)\n",
    "        hptune_trials[\"beta\"].append(q)\n",
    "        hptune_trials[\"acc\"].append(acc)\n",
    "        \n",
    "        if acc > best_acc:\n",
    "            best_acc = acc\n",
    "            best_param = {\"alpha\": p, \"beta\": q}\n",
    "best_acc, best_param"
   ]
  },
  {
   "cell_type": "code",
   "execution_count": 43,
   "metadata": {},
   "outputs": [
    {
     "data": {
      "text/plain": [
       "<AxesSubplot:xlabel='alpha', ylabel='beta'>"
      ]
     },
     "execution_count": 43,
     "metadata": {},
     "output_type": "execute_result"
    },
    {
     "data": {
      "image/png": "[encoded data removed]",
      "text/plain": [
       "<Figure size 432x288 with 1 Axes>"
      ]
     },
     "metadata": {
      "needs_background": "light"
     },
     "output_type": "display_data"
    }
   ],
   "source": [
    "sns.scatterplot(x=\"alpha\", y=\"beta\", size=\"acc\", data=hptune_trials)"
   ]
  },
  {
   "cell_type": "code",
   "execution_count": 8,
   "metadata": {},
   "outputs": [
    {
     "name": "stderr",
     "output_type": "stream",
     "text": [
      "/home/otani_mayu/miniconda3/envs/obj-detect-analysis/lib/python3.7/site-packages/ipykernel_launcher.py:6: DeprecationWarning: In future, it will be an error for 'np.bool_' scalars to be interpreted as an index\n",
      "  \n"
     ]
    }
   ],
   "source": [
    "cmap_func = lambda x, y: get_cmap(\n",
    "                    x, y, alpha=0.5, beta=0.6, mode=\"giou\", use_dummy=True\n",
    "                )\n",
    "retina_cc = [get_ot_cost(x, y, cmap_func) for x, y in zip(gts, retina_res)]\n",
    "yolof_cc = [get_ot_cost(x, y, cmap_func) for x, y in zip(gts, yolof_res)]\n",
    "cc_judge = [[\"retinanet\", \"yolof\"][x > y] for x, y in zip(retina_cc, yolof_cc)]"
   ]
  },
  {
   "cell_type": "code",
   "execution_count": 9,
   "metadata": {},
   "outputs": [
    {
     "data": {
      "text/html": [
       "<div>\n",
       "<style scoped>\n",
       "    .dataframe tbody tr th:only-of-type {\n",
       "        vertical-align: middle;\n",
       "    }\n",
       "\n",
       "    .dataframe tbody tr th {\n",
       "        vertical-align: top;\n",
       "    }\n",
       "\n",
       "    .dataframe thead th {\n",
       "        text-align: right;\n",
       "    }\n",
       "</style>\n",
       "<table border=\"1\" class=\"dataframe\">\n",
       "  <thead>\n",
       "    <tr style=\"text-align: right;\">\n",
       "      <th></th>\n",
       "      <th>Unnamed: 0</th>\n",
       "      <th>human_judgment</th>\n",
       "      <th>map_judgment</th>\n",
       "      <th>oc_judgment</th>\n",
       "      <th>img</th>\n",
       "    </tr>\n",
       "  </thead>\n",
       "  <tbody>\n",
       "    <tr>\n",
       "      <th>0</th>\n",
       "      <td>0</td>\n",
       "      <td>yolof</td>\n",
       "      <td>yolof</td>\n",
       "      <td>yolof</td>\n",
       "      <td>000000000632</td>\n",
       "    </tr>\n",
       "    <tr>\n",
       "      <th>1</th>\n",
       "      <td>1</td>\n",
       "      <td>yolof</td>\n",
       "      <td>yolof</td>\n",
       "      <td>yolof</td>\n",
       "      <td>000000000785</td>\n",
       "    </tr>\n",
       "    <tr>\n",
       "      <th>2</th>\n",
       "      <td>2</td>\n",
       "      <td>yolof</td>\n",
       "      <td>yolof</td>\n",
       "      <td>yolof</td>\n",
       "      <td>000000001268</td>\n",
       "    </tr>\n",
       "    <tr>\n",
       "      <th>3</th>\n",
       "      <td>3</td>\n",
       "      <td>yolof</td>\n",
       "      <td>yolof</td>\n",
       "      <td>yolof</td>\n",
       "      <td>000000001490</td>\n",
       "    </tr>\n",
       "    <tr>\n",
       "      <th>4</th>\n",
       "      <td>4</td>\n",
       "      <td>yolof</td>\n",
       "      <td>yolof</td>\n",
       "      <td>yolof</td>\n",
       "      <td>000000001584</td>\n",
       "    </tr>\n",
       "  </tbody>\n",
       "</table>\n",
       "</div>"
      ],
      "text/plain": [
       "   Unnamed: 0 human_judgment map_judgment oc_judgment           img\n",
       "0           0          yolof        yolof       yolof  000000000632\n",
       "1           1          yolof        yolof       yolof  000000000785\n",
       "2           2          yolof        yolof       yolof  000000001268\n",
       "3           3          yolof        yolof       yolof  000000001490\n",
       "4           4          yolof        yolof       yolof  000000001584"
      ]
     },
     "execution_count": 9,
     "metadata": {},
     "output_type": "execute_result"
    }
   ],
   "source": [
    "df = pd.read_csv(\"outputs/human_consistency/map_vs_human.csv\")\n",
    "df[\"oc_judgment\"] = cc_judge\n",
    "df[\"img\"] = anno_data.img\n",
    "df.head()"
   ]
  },
  {
   "cell_type": "code",
   "execution_count": 10,
   "metadata": {},
   "outputs": [
    {
     "name": "stdout",
     "output_type": "stream",
     "text": [
      "data/coco/val2017/000000023272.jpg\n",
      "mAP_single: retina-0.6, yolof-0.55\n",
      "OC-cost: retina-0.28, yolof-0.19\n",
      "data/coco/val2017/000000089078.jpg\n",
      "mAP_single: retina-0.4, yolof-0.35\n",
      "OC-cost: retina-0.32, yolof-0.24\n",
      "data/coco/val2017/000000235857.jpg\n",
      "mAP_single: retina-0.8666666746139526, yolof-0.8333333432674408\n",
      "OC-cost: retina-0.19, yolof-0.075\n",
      "data/coco/val2017/000000350019.jpg\n",
      "mAP_single: retina-1.0, yolof-0.95\n",
      "OC-cost: retina-0.24, yolof-0.098\n"
     ]
    }
   ],
   "source": [
    "def cvrt_result(bbox_result):\n",
    "    labels = [\n",
    "        np.full(bbox.shape[0], i, dtype=np.int32)\n",
    "        for i, bbox in enumerate(bbox_result)\n",
    "    ]\n",
    "    labels = np.concatenate(labels)\n",
    "    bboxes = np.vstack(bbox_result)\n",
    "    return bboxes, labels\n",
    "\n",
    "cb_p = sns.color_palette(\"colorblind\")\n",
    "det_c = (np.asarray(cb_p[2])*255).astype(np.uint8)[::-1]\n",
    "gt_c = (np.asarray(cb_p[3])*255).astype(np.uint8)[::-1]\n",
    "\n",
    "img_ids = [\"000000023272\", \"000000089078\", \"000000235857\", \"000000350019\"]\n",
    "\n",
    "for i in df[(df.human_judgment==df.oc_judgment)&(df.human_judgment!=df.map_judgment)].index:\n",
    "    img_id = df.img[i]\n",
    "    if img_id not in img_ids:\n",
    "        continue\n",
    "    org_idx = selected_indexes[i]\n",
    "    data_info = dataset.prepare_train_img(org_idx)\n",
    "    ann_info = data_info[\"ann_info\"]\n",
    "    retina_map, retina_map_report =  map_single.bbox_map_eval(retina_res[i], ann_info)\n",
    "    yolof_map, yolof_map_report =  map_single.bbox_map_eval(yolof_res[i], ann_info)\n",
    "    print(data_info[\"filename\"])\n",
    "    print(f\"mAP_single: retina-{retina_map}, yolof-{yolof_map}\")\n",
    "    print(f\"OC-cost: retina-{retina_cc[i]:.2}, yolof-{yolof_cc[i]:.2}\")\n",
    "\n",
    "    ims = []\n",
    "    for dets, model_name in zip((retina_res[i], yolof_res[i]), [\"retinanet\", \"yolof\"]):\n",
    "        dets, labels = cvrt_result(dets)\n",
    "        if model_name==\"retinanet\":\n",
    "            occ = retina_cc[i]\n",
    "            map_v = retina_map\n",
    "        else:\n",
    "            occ = yolof_cc[i]\n",
    "            map_v = yolof_map\n",
    "        out_file = f\"outputs/figs/user_study/examples/{img_id}_{model_name}_oc-cost({occ:.3})_map({map_v:.3}).pdf\"\n",
    "        im = visualization.imshow_det_bboxes(\n",
    "            data_info[\"filename\"],\n",
    "            dets,\n",
    "            labels,\n",
    "            class_names=dataset.CLASSES,\n",
    "            bbox_color=det_c,\n",
    "            text_color=det_c,\n",
    "            thickness=3,\n",
    "            font_size=22,\n",
    "            show=False,\n",
    "            out_file=out_file)"
   ]
  },
  {
   "cell_type": "code",
   "execution_count": null,
   "metadata": {},
   "outputs": [],
   "source": [
    "\n",
    "for i, x in enumerate(retina_map_report):\n",
    "    for j, c in enumerate(dataset.CLASSES):\n",
    "        if c in [\"car\", \"cat\", \"truck\"]:\n",
    "            print(c)    \n",
    "            print(x[j])"
   ]
  },
  {
   "cell_type": "code",
   "execution_count": null,
   "metadata": {},
   "outputs": [],
   "source": []
  }
 ],
 "metadata": {
  "interpreter": {
   "hash": "a60f4c539d427c50f9e364dcdb29771d2ef7e4abf05f239bf1379c4bf85f89a1"
  },
  "kernelspec": {
   "display_name": "Python 3.7.10 64-bit ('obj-detect-analysis': conda)",
   "name": "python3"
  },
  "language_info": {
   "codemirror_mode": {
    "name": "ipython",
    "version": 3
   },
   "file_extension": ".py",
   "mimetype": "text/x-python",
   "name": "python",
   "nbconvert_exporter": "python",
   "pygments_lexer": "ipython3",
   "version": "3.7.10"
  },
  "orig_nbformat": 4
 },
 "nbformat": 4,
 "nbformat_minor": 2
}
