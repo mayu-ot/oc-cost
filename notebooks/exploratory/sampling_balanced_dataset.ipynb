{
 "cells": [
  {
   "cell_type": "code",
   "execution_count": 1,
   "metadata": {},
   "outputs": [
    {
     "name": "stdout",
     "output_type": "stream",
     "text": [
      "/mnt/sda/otani/Experiments/eval-detection\n"
     ]
    }
   ],
   "source": [
    "%cd ../../"
   ]
  },
  {
   "cell_type": "code",
   "execution_count": 40,
   "metadata": {},
   "outputs": [
    {
     "ename": "ModuleNotFoundError",
     "evalue": "No module named 'scipy.stats.sampling'",
     "output_type": "error",
     "traceback": [
      "\u001b[0;31m---------------------------------------------------------------------------\u001b[0m",
      "\u001b[0;31mModuleNotFoundError\u001b[0m                       Traceback (most recent call last)",
      "\u001b[0;32m<ipython-input-40-2583b301b0fd>\u001b[0m in \u001b[0;36m<module>\u001b[0;34m\u001b[0m\n\u001b[1;32m      5\u001b[0m \u001b[0;32mfrom\u001b[0m \u001b[0mcollections\u001b[0m \u001b[0;32mimport\u001b[0m \u001b[0mCounter\u001b[0m\u001b[0;34m\u001b[0m\u001b[0;34m\u001b[0m\u001b[0m\n\u001b[1;32m      6\u001b[0m \u001b[0;32mfrom\u001b[0m \u001b[0mcvxopt\u001b[0m \u001b[0;32mimport\u001b[0m \u001b[0mmatrix\u001b[0m\u001b[0;34m,\u001b[0m \u001b[0msolvers\u001b[0m\u001b[0;34m\u001b[0m\u001b[0;34m\u001b[0m\u001b[0m\n\u001b[0;32m----> 7\u001b[0;31m \u001b[0;32mfrom\u001b[0m \u001b[0mscipy\u001b[0m\u001b[0;34m.\u001b[0m\u001b[0mstats\u001b[0m\u001b[0;34m.\u001b[0m\u001b[0msampling\u001b[0m \u001b[0;32mimport\u001b[0m \u001b[0mDiscreteAliasUrn\u001b[0m\u001b[0;34m\u001b[0m\u001b[0;34m\u001b[0m\u001b[0m\n\u001b[0m",
      "\u001b[0;31mModuleNotFoundError\u001b[0m: No module named 'scipy.stats.sampling'"
     ]
    }
   ],
   "source": [
    "import json\n",
    "import matplotlib.pyplot as plt\n",
    "%matplotlib inline\n",
    "import numpy as np\n",
    "from collections import Counter\n",
    "from cvxopt import matrix, solvers"
   ]
  },
  {
   "cell_type": "code",
   "execution_count": 3,
   "metadata": {},
   "outputs": [],
   "source": [
    "dataset = json.load(open(\"data/coco/annotations/instances_val2017.json\", \"r\"))"
   ]
  },
  {
   "cell_type": "code",
   "execution_count": 4,
   "metadata": {},
   "outputs": [],
   "source": [
    "cat_id2idx = {c[\"id\"]:i for i, c in enumerate(dataset[\"categories\"])}\n",
    "img_id2idx = {c[\"id\"]:i for i, c in enumerate(dataset[\"images\"])}"
   ]
  },
  {
   "cell_type": "code",
   "execution_count": 5,
   "metadata": {},
   "outputs": [
    {
     "data": {
      "text/plain": [
       "<BarContainer object of 80 artists>"
      ]
     },
     "execution_count": 5,
     "metadata": {},
     "output_type": "execute_result"
    },
    {
     "data": {
      "image/png": "[encoded data removed]",
      "text/plain": [
       "<Figure size 432x288 with 1 Axes>"
      ]
     },
     "metadata": {
      "needs_background": "light"
     },
     "output_type": "display_data"
    }
   ],
   "source": [
    "cats = []\n",
    "for ann in dataset[\"annotations\"]:\n",
    "    c_id = ann[\"category_id\"]\n",
    "    cats.append(cat_id2idx[c_id])\n",
    "c = Counter(cats)\n",
    "x = []\n",
    "y = []\n",
    "for c_idx, freq in c.items():\n",
    "    x.append(c_idx)\n",
    "    y.append(freq)\n",
    "plt.bar(x, y)"
   ]
  },
  {
   "cell_type": "code",
   "execution_count": 24,
   "metadata": {},
   "outputs": [],
   "source": [
    "n_cat = len(dataset[\"categories\"])\n",
    "n_img = len(dataset[\"images\"])\n",
    "\n",
    "E = np.zeros((n_img, n_cat))\n",
    "for ann in dataset[\"annotations\"]:\n",
    "    c_id = ann[\"category_id\"]\n",
    "    img_id = ann[\"image_id\"]\n",
    "    E[img_id2idx[img_id], cat_id2idx[c_id]] = 1\n",
    "\n",
    "A_ = 2 * n_cat * np.eye(n_cat) - 2 * np.ones((n_cat, n_cat))\n",
    "A = E @ A_ @ E.T"
   ]
  },
  {
   "cell_type": "code",
   "execution_count": 25,
   "metadata": {},
   "outputs": [
    {
     "name": "stdout",
     "output_type": "stream",
     "text": [
      "     pcost       dcost       gap    pres   dres\n",
      " 0:  1.0000e+00 -2.0700e-03  5e+03  7e+01  1e+00\n",
      " 1:  1.0000e+00 -7.4293e-04  6e+01  8e-01  1e-02\n",
      " 2:  1.0005e+00  1.0107e-01  5e+00  6e-02  9e-04\n",
      " 3:  1.0079e+00  4.8306e-01  2e+00  2e-02  3e-04\n",
      " 4:  1.0120e+00  5.8158e-01  2e+00  2e-02  2e-04\n",
      " 5:  1.0152e+00  6.4028e-01  1e+00  9e-03  1e-04\n",
      " 6:  1.0237e+00  6.9383e-01  6e-01  3e-03  4e-05\n",
      " 7:  1.0161e+00  9.2253e-01  1e-01  4e-04  6e-06\n",
      " 8:  1.0050e+00  9.8798e-01  2e-02  3e-05  1e-06\n",
      " 9:  1.0009e+00  9.9843e-01  2e-03  1e-17  2e-15\n",
      "10:  1.0001e+00  9.9985e-01  3e-04  9e-16  7e-07\n",
      "11:  1.0000e+00  9.9998e-01  4e-05  9e-16  2e-15\n",
      "12:  1.0000e+00  1.0000e+00  6e-06  1e-15  2e-15\n",
      "13:  1.0000e+00  1.0000e+00  8e-07  1e-15  5e-08\n",
      "Optimal solution found.\n"
     ]
    }
   ],
   "source": [
    "alpha = 0.0\n",
    "P = matrix(A)\n",
    "q = matrix(1., (n_img, 1))\n",
    "G = matrix(-np.eye(n_img))\n",
    "h = matrix(-alpha, (n_img, 1))\n",
    "A = matrix(1.0, (1, n_img))\n",
    "b = matrix(1.0)\n",
    "sol=solvers.qp(P, q, G, h, A, b)"
   ]
  },
  {
   "cell_type": "code",
   "execution_count": 26,
   "metadata": {},
   "outputs": [
    {
     "data": {
      "text/plain": [
       "{'x': <5000x1 matrix, tc='d'>,\n",
       " 'y': <1x1 matrix, tc='d'>,\n",
       " 's': <5000x1 matrix, tc='d'>,\n",
       " 'z': <5000x1 matrix, tc='d'>,\n",
       " 'status': 'optimal',\n",
       " 'gap': 8.390472399113086e-07,\n",
       " 'relative gap': 8.390476083779886e-07,\n",
       " 'primal objective': 1.0000003998985225,\n",
       " 'dual objective': 0.9999995608512839,\n",
       " 'primal infeasibility': 1.3322676295501878e-15,\n",
       " 'dual infeasibility': 4.978766957527404e-08,\n",
       " 'primal slack': 2.298542234343768e-08,\n",
       " 'dual slack': 7.732882254807809e-10,\n",
       " 'iterations': 13}"
      ]
     },
     "execution_count": 26,
     "metadata": {},
     "output_type": "execute_result"
    }
   ],
   "source": [
    "sol"
   ]
  },
  {
   "cell_type": "code",
   "execution_count": 45,
   "metadata": {},
   "outputs": [
    {
     "data": {
      "text/plain": [
       "<BarContainer object of 5000 artists>"
      ]
     },
     "execution_count": 45,
     "metadata": {},
     "output_type": "execute_result"
    },
    {
     "data": {
      "image/png": "[encoded data removed]",
      "text/plain": [
       "<Figure size 432x288 with 1 Axes>"
      ]
     },
     "metadata": {
      "needs_background": "light"
     },
     "output_type": "display_data"
    }
   ],
   "source": [
    "x = np.array(sol[\"x\"])\n",
    "plt.bar(np.arange(n_img), x.ravel())"
   ]
  },
  {
   "cell_type": "code",
   "execution_count": 51,
   "metadata": {},
   "outputs": [
    {
     "data": {
      "text/plain": [
       "0.9999999999999996"
      ]
     },
     "execution_count": 51,
     "metadata": {},
     "output_type": "execute_result"
    }
   ],
   "source": [
    "x.sum()"
   ]
  },
  {
   "cell_type": "code",
   "execution_count": 54,
   "metadata": {},
   "outputs": [
    {
     "data": {
      "text/plain": [
       "<BarContainer object of 5000 artists>"
      ]
     },
     "execution_count": 54,
     "metadata": {},
     "output_type": "execute_result"
    },
    {
     "data": {
      "image/png": "[encoded data removed]",
      "text/plain": [
       "<Figure size 432x288 with 1 Axes>"
      ]
     },
     "metadata": {
      "needs_background": "light"
     },
     "output_type": "display_data"
    }
   ],
   "source": [
    "n_draw = 10000\n",
    "freq_img = np.random.multinomial(n_draw, x.ravel())\n",
    "plt.bar(np.arange(n_img), freq_img / n_draw)"
   ]
  },
  {
   "cell_type": "code",
   "execution_count": null,
   "metadata": {},
   "outputs": [],
   "source": []
  }
 ],
 "metadata": {
  "interpreter": {
   "hash": "a60f4c539d427c50f9e364dcdb29771d2ef7e4abf05f239bf1379c4bf85f89a1"
  },
  "kernelspec": {
   "display_name": "Python 3.7.10 ('obj-detect-analysis')",
   "language": "python",
   "name": "python3"
  },
  "language_info": {
   "codemirror_mode": {
    "name": "ipython",
    "version": 3
   },
   "file_extension": ".py",
   "mimetype": "text/x-python",
   "name": "python",
   "nbconvert_exporter": "python",
   "pygments_lexer": "ipython3",
   "version": "3.7.10"
  },
  "orig_nbformat": 4
 },
 "nbformat": 4,
 "nbformat_minor": 2
}
