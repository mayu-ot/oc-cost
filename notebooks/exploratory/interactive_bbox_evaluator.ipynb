{
 "cells": [
  {
   "cell_type": "code",
   "execution_count": 1,
   "source": [
    "%cd ../../"
   ],
   "outputs": [
    {
     "output_type": "stream",
     "name": "stdout",
     "text": [
      "/mnt/sda/otani/Experiments/eval-detection\n"
     ]
    }
   ],
   "metadata": {}
  },
  {
   "cell_type": "code",
   "execution_count": 2,
   "source": [
    "from jupyter_bbox_widget import BBoxWidget\n",
    "import numpy as np\n",
    "from src.extensions.metrics.ot_cost import get_ot_cost\n",
    "import ipywidgets as widgets\n",
    "import re"
   ],
   "outputs": [],
   "metadata": {}
  },
  {
   "cell_type": "code",
   "execution_count": 3,
   "source": [
    "CLASS_LABELS = [\"apple\", \"lemon\", \"banana\"]\n",
    "n_class = len(CLASS_LABELS)\n",
    "bbox_widget = BBoxWidget(\n",
    "    image='../../data/sample_img/fruits.jpeg',\n",
    "    classes= CLASS_LABELS + [\" \".join([\"GT\", l]) for l in CLASS_LABELS],\n",
    "    colors=[\"green\"] * n_class + [\"orange\"] * n_class,\n",
    "    hide_buttons=True\n",
    "    )\n",
    "\n",
    "w_conf = widgets.FloatSlider(value=0.5, min=0, max=1., description='Confidence')\n",
    "bbox_widget.attach(w_conf, name=\"confidence\")\n",
    "\n",
    "def format_bboxes(bboxes, classes):\n",
    "    formatted_bboxes = []\n",
    "    for label in classes:\n",
    "        formatted_bboxes.append([])\n",
    "        for bbox in bboxes:\n",
    "            if label in bbox[\"label\"]:\n",
    "                if bbox[\"label\"].startswith(\"GT\"):\n",
    "                    conf = 1 \n",
    "                else:\n",
    "                    conf = bbox[\"confidence\"]\n",
    "                formatted_bboxes[-1].append([bbox[\"x\"], bbox[\"y\"], bbox[\"x\"]+bbox[\"width\"], bbox[\"y\"]+bbox[\"height\"], conf])\n",
    "        formatted_bboxes[-1] = np.asarray(formatted_bboxes[-1], dtype=np.float32).reshape(-1, 5)\n",
    "\n",
    "    return formatted_bboxes\n",
    "    \n",
    "def evaluate_bboxes():\n",
    "    gt_bboxes = [b for b in bbox_widget.bboxes if b[\"label\"].startswith(\"GT\")]\n",
    "    gt_bboxes = format_bboxes(gt_bboxes, bbox_widget.classes[:3])\n",
    "    bboxes = [b for b in bbox_widget.bboxes if not b[\"label\"].startswith(\"GT\")]\n",
    "    bboxes = format_bboxes(bboxes, CLASS_LABELS)\n",
    "    otc, log = get_ot_cost(gt_bboxes, bboxes, return_matrix=True)\n",
    "    return otc, log\n",
    "\n",
    "w_out = widgets.Output()\n",
    "\n",
    "def update_label_conf():\n",
    "    idx = bbox_widget.selected_index\n",
    "    cur_label = bbox_widget.bboxes[idx][\"label\"]\n",
    "\n",
    "    if cur_label.startswith(\"GT\"):\n",
    "        return\n",
    "\n",
    "    if \"(\" not in cur_label:\n",
    "        cur_label += \" ( )\"\n",
    "\n",
    "    conf = bbox_widget.bboxes[idx][\"confidence\"]\n",
    "    new_label = re.sub(r\"\\(.*\\)\", f\"({conf})\", cur_label)\n",
    "\n",
    "    bbox_widget._set_bbox_property(idx, \"label\", new_label)\n",
    "\n",
    "def on_bbox_change(change):\n",
    "    update_label_conf()\n",
    "\n",
    "    w_out.clear_output(wait=True)\n",
    "    otc, log = evaluate_bboxes()\n",
    "    with w_out:\n",
    "        print(f\"{otc:.3f}\")\n",
    "        print(log['G'])\n",
    "        \n",
    "bbox_widget.observe(on_bbox_change, names=['bboxes'])\n",
    "\n",
    "w_container = widgets.VBox([\n",
    "    bbox_widget,\n",
    "    w_conf,\n",
    "    w_out,\n",
    "])\n",
    "w_container"
   ],
   "outputs": [
    {
     "output_type": "display_data",
     "data": {
      "text/plain": [
       "VBox(children=(BBoxWidget(classes=['apple', 'lemon', 'banana', 'GT apple', 'GT lemon', 'GT banana'], colors=['…"
      ],
      "application/vnd.jupyter.widget-view+json": {
       "version_major": 2,
       "version_minor": 0,
       "model_id": "7c83dfdb5d8b462e91d31bda410a4ecc"
      }
     },
     "metadata": {}
    }
   ],
   "metadata": {}
  },
  {
   "cell_type": "code",
   "execution_count": null,
   "source": [],
   "outputs": [],
   "metadata": {}
  }
 ],
 "metadata": {
  "orig_nbformat": 4,
  "language_info": {
   "name": "python",
   "version": "3.7.10",
   "mimetype": "text/x-python",
   "codemirror_mode": {
    "name": "ipython",
    "version": 3
   },
   "pygments_lexer": "ipython3",
   "nbconvert_exporter": "python",
   "file_extension": ".py"
  },
  "kernelspec": {
   "name": "python3",
   "display_name": "Python 3.7.10 64-bit ('obj-detect-analysis': conda)"
  },
  "interpreter": {
   "hash": "e2471993c4d62ae9b575753f4c2b946064f5b3981ce348b4506b63cd1f97a093"
  }
 },
 "nbformat": 4,
 "nbformat_minor": 2
}