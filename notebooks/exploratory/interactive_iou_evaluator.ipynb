{
 "cells": [
  {
   "cell_type": "code",
   "execution_count": 1,
   "metadata": {},
   "outputs": [
    {
     "name": "stdout",
     "output_type": "stream",
     "text": [
      "/mnt/sda/otani/Experiments/eval-detection\n"
     ]
    }
   ],
   "source": [
    "%cd ../../"
   ]
  },
  {
   "cell_type": "code",
   "execution_count": 2,
   "metadata": {},
   "outputs": [],
   "source": [
    "from jupyter_bbox_widget import BBoxWidget\n",
    "import numpy as np\n",
    "from src.extensions.metrics.ot_cost import get_ot_cost, get_cmap\n",
    "import ot\n",
    "import ipywidgets as widgets\n",
    "import matplotlib.pyplot as plt\n",
    "from src.extensions.metrics.ot_cost import get_bbox_overlaps\n",
    "from matplotlib.patches import Rectangle\n",
    "from matplotlib.pyplot import cm\n",
    "%matplotlib inline"
   ]
  },
  {
   "cell_type": "code",
   "execution_count": 3,
   "metadata": {},
   "outputs": [],
   "source": [
    "def display_alignment(cmap_fnc, use_dummy=False):\n",
    "    gt_bboxes = [b for b in bbox_widget.bboxes if b[\"label\"].startswith(\"GT\")]\n",
    "    fmt_gt_bboxes, gt_bbox_indices = format_bboxes(gt_bboxes, CLASS_LABELS, return_orders=True)\n",
    "    bboxes = [b for b in bbox_widget.bboxes if not b[\"label\"].startswith(\"GT\")]\n",
    "    fmt_bboxes, bbox_indices = format_bboxes(bboxes, CLASS_LABELS, return_orders=True)\n",
    "    otc, log = get_ot_cost(fmt_gt_bboxes, fmt_bboxes, cmap_fnc, return_matrix=True)\n",
    "\n",
    "    img = plt.imread(\"data/sample_img/white.jpeg\")\n",
    "    plt.imshow(img)\n",
    "    ax = plt.gca()\n",
    "\n",
    "    # draw gt bboxes\n",
    "    color_map = plt.get_cmap(\"tab20\")\n",
    "    for i, bi in enumerate(gt_bbox_indices):\n",
    "        b = gt_bboxes[bi]\n",
    "        c = color_map(i*2)\n",
    "        rect = Rectangle((b[\"x\"], b[\"y\"]), b[\"width\"], b[\"height\"], lw=2, ec=c, fc=c, alpha=0.7)\n",
    "        ax.add_patch(rect)   \n",
    "\n",
    "    # draw bboxes\n",
    "    G = log[\"G\"]\n",
    "    eps = 0.05\n",
    "    for i, weight in enumerate(G):\n",
    "        for bi, w in zip(bbox_indices, weight):\n",
    "            if w>0:\n",
    "                n_w = w / (G[:, bi].sum() + eps)\n",
    "                b = bboxes[bi]\n",
    "                if use_dummy:\n",
    "                    c = color_map(i*2+1) if i < len(G)-1 else \"tab:gray\"\n",
    "                else:\n",
    "                    c = color_map(i*2+1)\n",
    "                rect = Rectangle((b[\"x\"], b[\"y\"]), b[\"width\"], b[\"height\"], lw=2, ec=c, fc=\"None\", alpha=n_w)\n",
    "                ax.add_patch(rect)   \n",
    "\n",
    "    plt.show()\n",
    "    return log"
   ]
  },
  {
   "cell_type": "code",
   "execution_count": 10,
   "metadata": {},
   "outputs": [
    {
     "data": {
      "application/vnd.jupyter.widget-view+json": {
       "model_id": "1c7aa153feb64b0abe6f3547dbbb5dc0",
       "version_major": 2,
       "version_minor": 0
      },
      "text/plain": [
       "VBox(children=(BBoxWidget(classes=['GT', 'Pred'], colors=['orange', 'green'], hide_buttons=True, image='../../…"
      ]
     },
     "metadata": {},
     "output_type": "display_data"
    }
   ],
   "source": [
    "from IPython.display import display\n",
    "\n",
    "CLASS_LABELS = [\"GT\", \"Pred\"]\n",
    "n_class = len(CLASS_LABELS)\n",
    "img_file = 'data/sample_img/fruits.jpeg'\n",
    "\n",
    "\n",
    "bbox_widget = BBoxWidget(\n",
    "    image=\"../../\"+img_file,\n",
    "    classes= CLASS_LABELS,\n",
    "    colors=[\"orange\", \"green\"],\n",
    "    hide_buttons=True\n",
    "    )\n",
    "\n",
    "w_conf = widgets.FloatSlider(value=0.5, min=0, max=1., description='Confidence')\n",
    "bbox_widget.attach(w_conf, name=\"confidence\")\n",
    "\n",
    "# def format_bboxes(bboxes):\n",
    "#     formatted_bboxes = []\n",
    "#     for i, bbox in enumerate(bboxes):\n",
    "#         if bbox[\"label\"] == \"GT\":\n",
    "#             conf = 1 \n",
    "#         else:\n",
    "#             conf = bbox[\"confidence\"]\n",
    "#         formatted_bboxes.append([bbox[\"x\"], bbox[\"y\"], bbox[\"x\"]+bbox[\"width\"], bbox[\"y\"]+bbox[\"height\"], conf])\n",
    "#     return np.asarray(formatted_bboxes, dtype=np.float32).reshape(-1, 5)\n",
    "\n",
    "def format_bboxes(bboxes, classes, return_orders=False):\n",
    "    orders = []\n",
    "    formatted_bboxes = []\n",
    "    for label in classes:\n",
    "        formatted_bboxes.append([])\n",
    "        for i, bbox in enumerate(bboxes):\n",
    "            if label in bbox[\"label\"]:\n",
    "                if bbox[\"label\"].startswith(\"GT\"):\n",
    "                    conf = 1 \n",
    "                else:\n",
    "                    conf = bbox[\"confidence\"]\n",
    "                formatted_bboxes[-1].append([bbox[\"x\"], bbox[\"y\"], bbox[\"x\"]+bbox[\"width\"], bbox[\"y\"]+bbox[\"height\"], conf])\n",
    "                orders.append(i)\n",
    "        formatted_bboxes[-1] = np.asarray(formatted_bboxes[-1], dtype=np.float32).reshape(-1, 5)\n",
    "    if return_orders:\n",
    "        return formatted_bboxes, orders\n",
    "    return formatted_bboxes\n",
    "\n",
    "def evaluate_bboxes():\n",
    "    gt_bboxes = [b for b in bbox_widget.bboxes if b[\"label\"]==\"GT\"]\n",
    "    gt_bboxes = format_bboxes(gt_bboxes, [\"GT\", \"Pred\"])\n",
    "    bboxes = [b for b in bbox_widget.bboxes if not b[\"label\"]!=\"Pred\"]\n",
    "    bboxes = format_bboxes(bboxes,  [\"GT\", \"Pred\"])\n",
    "    ious = get_bbox_overlaps(bboxes[:, :4], gt_bboxes[:, :4], mode=\"iou\")\n",
    "    return ious\n",
    "\n",
    "w_out = widgets.Output()\n",
    "\n",
    "# def update_label_conf():\n",
    "#     idx = bbox_widget.selected_index\n",
    "#     cur_label = bbox_widget.bboxes[idx][\"label\"]\n",
    "\n",
    "#     if cur_label==\"GT\":\n",
    "#         return\n",
    "    \n",
    "#     conf = bbox_widget.bboxes[idx][\"confidence\"]\n",
    "#     new_label = f\"Pred ({conf})\"\n",
    "#     bbox_widget._set_bbox_property(idx, \"label\", new_label)\n",
    "\n",
    "def on_bbox_change(change):\n",
    "    # update_label_conf()\n",
    "\n",
    "    w_out.clear_output(wait=True)\n",
    "    ious = evaluate_bboxes()\n",
    "    with w_out:\n",
    "        print(ious)\n",
    "        \n",
    "bbox_widget.observe(on_bbox_change, names=['bboxes'])\n",
    "\n",
    "w_container = widgets.VBox([\n",
    "    bbox_widget,\n",
    "    w_conf,\n",
    "    w_out,\n",
    "])\n",
    "display(w_container)"
   ]
  },
  {
   "cell_type": "code",
   "execution_count": 7,
   "metadata": {},
   "outputs": [
    {
     "ename": "TypeError",
     "evalue": "format_bboxes() got an unexpected keyword argument 'return_orders'",
     "output_type": "error",
     "traceback": [
      "\u001b[0;31m---------------------------------------------------------------------------\u001b[0m",
      "\u001b[0;31mTypeError\u001b[0m                                 Traceback (most recent call last)",
      "\u001b[0;32m<ipython-input-7-f78b7125cb28>\u001b[0m in \u001b[0;36m<module>\u001b[0;34m\u001b[0m\n\u001b[1;32m      1\u001b[0m \u001b[0mcmap_fnc\u001b[0m \u001b[0;34m=\u001b[0m \u001b[0;32mlambda\u001b[0m \u001b[0mx\u001b[0m\u001b[0;34m,\u001b[0m \u001b[0my\u001b[0m\u001b[0;34m:\u001b[0m \u001b[0mget_cmap\u001b[0m\u001b[0;34m(\u001b[0m\u001b[0mx\u001b[0m\u001b[0;34m,\u001b[0m \u001b[0my\u001b[0m\u001b[0;34m,\u001b[0m \u001b[0muse_dummy\u001b[0m\u001b[0;34m=\u001b[0m\u001b[0;32mTrue\u001b[0m\u001b[0;34m)\u001b[0m\u001b[0;34m\u001b[0m\u001b[0;34m\u001b[0m\u001b[0m\n\u001b[0;32m----> 2\u001b[0;31m \u001b[0mdisplay_alignment\u001b[0m\u001b[0;34m(\u001b[0m\u001b[0mcmap_fnc\u001b[0m\u001b[0;34m,\u001b[0m \u001b[0muse_dummy\u001b[0m\u001b[0;34m=\u001b[0m\u001b[0;32mTrue\u001b[0m\u001b[0;34m)\u001b[0m\u001b[0;34m\u001b[0m\u001b[0;34m\u001b[0m\u001b[0m\n\u001b[0m",
      "\u001b[0;32m<ipython-input-3-8dfad179e54a>\u001b[0m in \u001b[0;36mdisplay_alignment\u001b[0;34m(cmap_fnc, use_dummy)\u001b[0m\n\u001b[1;32m      1\u001b[0m \u001b[0;32mdef\u001b[0m \u001b[0mdisplay_alignment\u001b[0m\u001b[0;34m(\u001b[0m\u001b[0mcmap_fnc\u001b[0m\u001b[0;34m,\u001b[0m \u001b[0muse_dummy\u001b[0m\u001b[0;34m=\u001b[0m\u001b[0;32mFalse\u001b[0m\u001b[0;34m)\u001b[0m\u001b[0;34m:\u001b[0m\u001b[0;34m\u001b[0m\u001b[0;34m\u001b[0m\u001b[0m\n\u001b[1;32m      2\u001b[0m     \u001b[0mgt_bboxes\u001b[0m \u001b[0;34m=\u001b[0m \u001b[0;34m[\u001b[0m\u001b[0mb\u001b[0m \u001b[0;32mfor\u001b[0m \u001b[0mb\u001b[0m \u001b[0;32min\u001b[0m \u001b[0mbbox_widget\u001b[0m\u001b[0;34m.\u001b[0m\u001b[0mbboxes\u001b[0m \u001b[0;32mif\u001b[0m \u001b[0mb\u001b[0m\u001b[0;34m[\u001b[0m\u001b[0;34m\"label\"\u001b[0m\u001b[0;34m]\u001b[0m\u001b[0;34m.\u001b[0m\u001b[0mstartswith\u001b[0m\u001b[0;34m(\u001b[0m\u001b[0;34m\"GT\"\u001b[0m\u001b[0;34m)\u001b[0m\u001b[0;34m]\u001b[0m\u001b[0;34m\u001b[0m\u001b[0;34m\u001b[0m\u001b[0m\n\u001b[0;32m----> 3\u001b[0;31m     \u001b[0mfmt_gt_bboxes\u001b[0m\u001b[0;34m,\u001b[0m \u001b[0mgt_bbox_indices\u001b[0m \u001b[0;34m=\u001b[0m \u001b[0mformat_bboxes\u001b[0m\u001b[0;34m(\u001b[0m\u001b[0mgt_bboxes\u001b[0m\u001b[0;34m,\u001b[0m \u001b[0mCLASS_LABELS\u001b[0m\u001b[0;34m,\u001b[0m \u001b[0mreturn_orders\u001b[0m\u001b[0;34m=\u001b[0m\u001b[0;32mTrue\u001b[0m\u001b[0;34m)\u001b[0m\u001b[0;34m\u001b[0m\u001b[0;34m\u001b[0m\u001b[0m\n\u001b[0m\u001b[1;32m      4\u001b[0m     \u001b[0mbboxes\u001b[0m \u001b[0;34m=\u001b[0m \u001b[0;34m[\u001b[0m\u001b[0mb\u001b[0m \u001b[0;32mfor\u001b[0m \u001b[0mb\u001b[0m \u001b[0;32min\u001b[0m \u001b[0mbbox_widget\u001b[0m\u001b[0;34m.\u001b[0m\u001b[0mbboxes\u001b[0m \u001b[0;32mif\u001b[0m \u001b[0;32mnot\u001b[0m \u001b[0mb\u001b[0m\u001b[0;34m[\u001b[0m\u001b[0;34m\"label\"\u001b[0m\u001b[0;34m]\u001b[0m\u001b[0;34m.\u001b[0m\u001b[0mstartswith\u001b[0m\u001b[0;34m(\u001b[0m\u001b[0;34m\"GT\"\u001b[0m\u001b[0;34m)\u001b[0m\u001b[0;34m]\u001b[0m\u001b[0;34m\u001b[0m\u001b[0;34m\u001b[0m\u001b[0m\n\u001b[1;32m      5\u001b[0m     \u001b[0mfmt_bboxes\u001b[0m\u001b[0;34m,\u001b[0m \u001b[0mbbox_indices\u001b[0m \u001b[0;34m=\u001b[0m \u001b[0mformat_bboxes\u001b[0m\u001b[0;34m(\u001b[0m\u001b[0mbboxes\u001b[0m\u001b[0;34m,\u001b[0m \u001b[0mCLASS_LABELS\u001b[0m\u001b[0;34m,\u001b[0m \u001b[0mreturn_orders\u001b[0m\u001b[0;34m=\u001b[0m\u001b[0;32mTrue\u001b[0m\u001b[0;34m)\u001b[0m\u001b[0;34m\u001b[0m\u001b[0;34m\u001b[0m\u001b[0m\n",
      "\u001b[0;31mTypeError\u001b[0m: format_bboxes() got an unexpected keyword argument 'return_orders'"
     ]
    }
   ],
   "source": [
    "cmap_fnc = lambda x, y: get_cmap(x, y, use_dummy=True)\n",
    "display_alignment(cmap_fnc, use_dummy=True)"
   ]
  },
  {
   "cell_type": "code",
   "execution_count": 8,
   "metadata": {},
   "outputs": [
    {
     "ename": "TypeError",
     "evalue": "format_bboxes() got an unexpected keyword argument 'return_orders'",
     "output_type": "error",
     "traceback": [
      "\u001b[0;31m---------------------------------------------------------------------------\u001b[0m",
      "\u001b[0;31mTypeError\u001b[0m                                 Traceback (most recent call last)",
      "\u001b[0;32m<ipython-input-8-6a013d2bc64f>\u001b[0m in \u001b[0;36m<module>\u001b[0;34m\u001b[0m\n\u001b[1;32m      1\u001b[0m \u001b[0mcmap_fnc\u001b[0m \u001b[0;34m=\u001b[0m \u001b[0;32mlambda\u001b[0m \u001b[0mx\u001b[0m\u001b[0;34m,\u001b[0m \u001b[0my\u001b[0m\u001b[0;34m:\u001b[0m \u001b[0mget_cmap\u001b[0m\u001b[0;34m(\u001b[0m\u001b[0mx\u001b[0m\u001b[0;34m,\u001b[0m \u001b[0my\u001b[0m\u001b[0;34m,\u001b[0m \u001b[0muse_dummy\u001b[0m\u001b[0;34m=\u001b[0m\u001b[0;32mFalse\u001b[0m\u001b[0;34m)\u001b[0m\u001b[0;34m\u001b[0m\u001b[0;34m\u001b[0m\u001b[0m\n\u001b[0;32m----> 2\u001b[0;31m \u001b[0mdisplay_alignment\u001b[0m\u001b[0;34m(\u001b[0m\u001b[0mcmap_fnc\u001b[0m\u001b[0;34m)\u001b[0m\u001b[0;34m\u001b[0m\u001b[0;34m\u001b[0m\u001b[0m\n\u001b[0m",
      "\u001b[0;32m<ipython-input-3-8dfad179e54a>\u001b[0m in \u001b[0;36mdisplay_alignment\u001b[0;34m(cmap_fnc, use_dummy)\u001b[0m\n\u001b[1;32m      1\u001b[0m \u001b[0;32mdef\u001b[0m \u001b[0mdisplay_alignment\u001b[0m\u001b[0;34m(\u001b[0m\u001b[0mcmap_fnc\u001b[0m\u001b[0;34m,\u001b[0m \u001b[0muse_dummy\u001b[0m\u001b[0;34m=\u001b[0m\u001b[0;32mFalse\u001b[0m\u001b[0;34m)\u001b[0m\u001b[0;34m:\u001b[0m\u001b[0;34m\u001b[0m\u001b[0;34m\u001b[0m\u001b[0m\n\u001b[1;32m      2\u001b[0m     \u001b[0mgt_bboxes\u001b[0m \u001b[0;34m=\u001b[0m \u001b[0;34m[\u001b[0m\u001b[0mb\u001b[0m \u001b[0;32mfor\u001b[0m \u001b[0mb\u001b[0m \u001b[0;32min\u001b[0m \u001b[0mbbox_widget\u001b[0m\u001b[0;34m.\u001b[0m\u001b[0mbboxes\u001b[0m \u001b[0;32mif\u001b[0m \u001b[0mb\u001b[0m\u001b[0;34m[\u001b[0m\u001b[0;34m\"label\"\u001b[0m\u001b[0;34m]\u001b[0m\u001b[0;34m.\u001b[0m\u001b[0mstartswith\u001b[0m\u001b[0;34m(\u001b[0m\u001b[0;34m\"GT\"\u001b[0m\u001b[0;34m)\u001b[0m\u001b[0;34m]\u001b[0m\u001b[0;34m\u001b[0m\u001b[0;34m\u001b[0m\u001b[0m\n\u001b[0;32m----> 3\u001b[0;31m     \u001b[0mfmt_gt_bboxes\u001b[0m\u001b[0;34m,\u001b[0m \u001b[0mgt_bbox_indices\u001b[0m \u001b[0;34m=\u001b[0m \u001b[0mformat_bboxes\u001b[0m\u001b[0;34m(\u001b[0m\u001b[0mgt_bboxes\u001b[0m\u001b[0;34m,\u001b[0m \u001b[0mCLASS_LABELS\u001b[0m\u001b[0;34m,\u001b[0m \u001b[0mreturn_orders\u001b[0m\u001b[0;34m=\u001b[0m\u001b[0;32mTrue\u001b[0m\u001b[0;34m)\u001b[0m\u001b[0;34m\u001b[0m\u001b[0;34m\u001b[0m\u001b[0m\n\u001b[0m\u001b[1;32m      4\u001b[0m     \u001b[0mbboxes\u001b[0m \u001b[0;34m=\u001b[0m \u001b[0;34m[\u001b[0m\u001b[0mb\u001b[0m \u001b[0;32mfor\u001b[0m \u001b[0mb\u001b[0m \u001b[0;32min\u001b[0m \u001b[0mbbox_widget\u001b[0m\u001b[0;34m.\u001b[0m\u001b[0mbboxes\u001b[0m \u001b[0;32mif\u001b[0m \u001b[0;32mnot\u001b[0m \u001b[0mb\u001b[0m\u001b[0;34m[\u001b[0m\u001b[0;34m\"label\"\u001b[0m\u001b[0;34m]\u001b[0m\u001b[0;34m.\u001b[0m\u001b[0mstartswith\u001b[0m\u001b[0;34m(\u001b[0m\u001b[0;34m\"GT\"\u001b[0m\u001b[0;34m)\u001b[0m\u001b[0;34m]\u001b[0m\u001b[0;34m\u001b[0m\u001b[0;34m\u001b[0m\u001b[0m\n\u001b[1;32m      5\u001b[0m     \u001b[0mfmt_bboxes\u001b[0m\u001b[0;34m,\u001b[0m \u001b[0mbbox_indices\u001b[0m \u001b[0;34m=\u001b[0m \u001b[0mformat_bboxes\u001b[0m\u001b[0;34m(\u001b[0m\u001b[0mbboxes\u001b[0m\u001b[0;34m,\u001b[0m \u001b[0mCLASS_LABELS\u001b[0m\u001b[0;34m,\u001b[0m \u001b[0mreturn_orders\u001b[0m\u001b[0;34m=\u001b[0m\u001b[0;32mTrue\u001b[0m\u001b[0;34m)\u001b[0m\u001b[0;34m\u001b[0m\u001b[0;34m\u001b[0m\u001b[0m\n",
      "\u001b[0;31mTypeError\u001b[0m: format_bboxes() got an unexpected keyword argument 'return_orders'"
     ]
    }
   ],
   "source": [
    "cmap_fnc = lambda x, y: get_cmap(x, y, use_dummy=False)\n",
    "display_alignment(cmap_fnc)"
   ]
  },
  {
   "cell_type": "code",
   "execution_count": null,
   "metadata": {},
   "outputs": [],
   "source": []
  }
 ],
 "metadata": {
  "interpreter": {
   "hash": "e2471993c4d62ae9b575753f4c2b946064f5b3981ce348b4506b63cd1f97a093"
  },
  "kernelspec": {
   "display_name": "Python 3.7.10 64-bit ('obj-detect-analysis': conda)",
   "name": "python3"
  },
  "language_info": {
   "codemirror_mode": {
    "name": "ipython",
    "version": 3
   },
   "file_extension": ".py",
   "mimetype": "text/x-python",
   "name": "python",
   "nbconvert_exporter": "python",
   "pygments_lexer": "ipython3",
   "version": "3.7.10"
  },
  "orig_nbformat": 4
 },
 "nbformat": 4,
 "nbformat_minor": 2
}
