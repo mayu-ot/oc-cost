{
 "cells": [
  {
   "cell_type": "code",
   "execution_count": 2,
   "source": [
    "%cd ../../"
   ],
   "outputs": [
    {
     "output_type": "stream",
     "name": "stdout",
     "text": [
      "/mnt/sda/otani/Experiments/eval-detection\n"
     ]
    }
   ],
   "metadata": {}
  },
  {
   "cell_type": "code",
   "execution_count": 3,
   "source": [
    "import cv2\n",
    "import albumentations as A"
   ],
   "outputs": [],
   "metadata": {}
  },
  {
   "cell_type": "code",
   "execution_count": 4,
   "source": [
    "transform = A.Compose([\n",
    "    A.GaussNoise(always_apply=True, var_limit=(10.0, 50.0))\n",
    "])"
   ],
   "outputs": [
    {
     "output_type": "stream",
     "name": "stderr",
     "text": [
      "/home/otani_mayu/miniconda3/envs/obj-detect-analysis/lib/python3.7/site-packages/albumentations/augmentations/transforms.py:870: FutureWarning: This class has been deprecated. Please use ImageCompression\n",
      "  FutureWarning,\n"
     ]
    }
   ],
   "metadata": {}
  },
  {
   "cell_type": "code",
   "execution_count": 5,
   "source": [
    "image = cv2.imread(\"data/sample_img/fruits.jpeg\")\n",
    "image = cv2.cvtColor(image, cv2.COLOR_BGR2RGB)\n",
    "transformed = transform(image=image)\n",
    "transformed_image = transformed[\"image\"]"
   ],
   "outputs": [],
   "metadata": {}
  },
  {
   "cell_type": "code",
   "execution_count": 9,
   "source": [
    "transformed_image = cv2.cvtColor(transformed_image, cv2.COLOR_RGB2BGR)\n",
    "cv2.imwrite(\"tmp/cmprs_fruits.jpeg\",transformed_image)"
   ],
   "outputs": [
    {
     "output_type": "execute_result",
     "data": {
      "text/plain": [
       "True"
      ]
     },
     "metadata": {},
     "execution_count": 9
    }
   ],
   "metadata": {}
  },
  {
   "cell_type": "code",
   "execution_count": null,
   "source": [],
   "outputs": [],
   "metadata": {}
  }
 ],
 "metadata": {
  "orig_nbformat": 4,
  "language_info": {
   "name": "python",
   "version": "3.7.10",
   "mimetype": "text/x-python",
   "codemirror_mode": {
    "name": "ipython",
    "version": 3
   },
   "pygments_lexer": "ipython3",
   "nbconvert_exporter": "python",
   "file_extension": ".py"
  },
  "kernelspec": {
   "name": "python3",
   "display_name": "Python 3.7.10 64-bit ('obj-detect-analysis': conda)"
  },
  "interpreter": {
   "hash": "e2471993c4d62ae9b575753f4c2b946064f5b3981ce348b4506b63cd1f97a093"
  }
 },
 "nbformat": 4,
 "nbformat_minor": 2
}