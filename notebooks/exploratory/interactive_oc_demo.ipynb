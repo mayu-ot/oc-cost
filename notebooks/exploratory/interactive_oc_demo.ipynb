{
 "cells": [
  {
   "cell_type": "code",
   "execution_count": 1,
   "metadata": {},
   "outputs": [
    {
     "name": "stdout",
     "output_type": "stream",
     "text": [
      "/Users/s01948/Documents/eval-detection\n"
     ]
    }
   ],
   "source": [
    "%cd ../../"
   ]
  },
  {
   "cell_type": "code",
   "execution_count": 2,
   "metadata": {},
   "outputs": [],
   "source": [
    "from jupyter_bbox_widget import BBoxWidget\n",
    "import numpy as np\n",
    "from src.extensions.metrics.ot_cost import get_ot_cost, get_cmap\n",
    "import ipywidgets as widgets\n",
    "%matplotlib inline"
   ]
  },
  {
   "cell_type": "code",
   "execution_count": 3,
   "metadata": {},
   "outputs": [],
   "source": [
    "SAMPLE_IMG_URL = \"http://farm8.staticflickr.com/7162/6767429191_69b495e08c_z.jpg\""
   ]
  },
  {
   "cell_type": "code",
   "execution_count": 4,
   "metadata": {},
   "outputs": [
    {
     "data": {
      "application/vnd.jupyter.widget-view+json": {
       "model_id": "e0170c36d42f463a9955ad947be4c862",
       "version_major": 2,
       "version_minor": 0
      },
      "text/plain": [
       "VBox(children=(BBoxWidget(classes=['apple', 'banana', 'orange', 'cup', 'GT apple', 'GT banana', 'GT orange', '…"
      ]
     },
     "metadata": {},
     "output_type": "display_data"
    }
   ],
   "source": [
    "from IPython.display import display\n",
    "\n",
    "\n",
    "CLASS_LABELS = [\"apple\", \"banana\", \"orange\", \"cup\"]\n",
    "n_class = len(CLASS_LABELS)\n",
    "\n",
    "\n",
    "bbox_widget = BBoxWidget(\n",
    "    image=SAMPLE_IMG_URL,\n",
    "    classes= CLASS_LABELS + [\" \".join([\"GT\", l]) for l in CLASS_LABELS],\n",
    "    colors=[\"green\"] * n_class + [\"orange\"] * n_class,\n",
    "    hide_buttons=True\n",
    "    )\n",
    "\n",
    "w_conf = widgets.FloatSlider(value=0.5, min=0, max=1., description='Confidence')\n",
    "bbox_widget.attach(w_conf, name=\"confidence\")\n",
    "\n",
    "def format_bboxes(bboxes, classes, return_orders=False):\n",
    "    orders = []\n",
    "    formatted_bboxes = []\n",
    "    for label in classes:\n",
    "        formatted_bboxes.append([])\n",
    "        for i, bbox in enumerate(bboxes):\n",
    "            if label in bbox[\"label\"]:\n",
    "                if bbox[\"label\"].startswith(\"GT\"):\n",
    "                    conf = 1 \n",
    "                else:\n",
    "                    conf = bbox[\"confidence\"]\n",
    "                formatted_bboxes[-1].append([bbox[\"x\"], bbox[\"y\"], bbox[\"x\"]+bbox[\"width\"], bbox[\"y\"]+bbox[\"height\"], conf])\n",
    "                orders.append(i)\n",
    "        formatted_bboxes[-1] = np.asarray(formatted_bboxes[-1], dtype=np.float32).reshape(-1, 5)\n",
    "    if return_orders:\n",
    "        return formatted_bboxes, orders\n",
    "    return formatted_bboxes\n",
    "    \n",
    "def evaluate_bboxes():\n",
    "    gt_bboxes = [b for b in bbox_widget.bboxes if b[\"label\"].startswith(\"GT\")]\n",
    "    gt_bboxes = format_bboxes(gt_bboxes, CLASS_LABELS)\n",
    "    bboxes = [b for b in bbox_widget.bboxes if not b[\"label\"].startswith(\"GT\")]\n",
    "    bboxes = format_bboxes(bboxes, CLASS_LABELS)\n",
    "    cmap_func = lambda x, y: get_cmap(x, y, alpha=0.5, beta=0.6,)\n",
    "    otc, log = get_ot_cost(gt_bboxes, bboxes, cmap_func, return_matrix=True)\n",
    "    return otc, log\n",
    "\n",
    "w_out = widgets.Output()\n",
    "\n",
    "def update_label_conf():\n",
    "    idx = bbox_widget.selected_index\n",
    "    cur_label = bbox_widget.bboxes[idx][\"label\"]\n",
    "\n",
    "    if cur_label.startswith(\"GT\"):\n",
    "        return\n",
    "    \n",
    "    for c_name in CLASS_LABELS:\n",
    "        if c_name in cur_label:\n",
    "            break\n",
    "\n",
    "    # re-label bboxes of c_name class\n",
    "    for idx, b in enumerate(bbox_widget.bboxes):\n",
    "        if b[\"label\"].startswith(\"GT\"):\n",
    "            continue\n",
    "        if c_name in b[\"label\"]:\n",
    "            conf = b[\"confidence\"]\n",
    "            new_label = f\"{c_name}|{conf}\"\n",
    "            bbox_widget._set_bbox_property(idx, \"label\", new_label)\n",
    "\n",
    "def on_bbox_change(change):\n",
    "    update_label_conf()\n",
    "    w_out.clear_output(wait=True)\n",
    "    otc, _ = evaluate_bboxes()\n",
    "    with w_out:\n",
    "        print(f\"OC-cost: {otc:.3f}\")\n",
    "        \n",
    "bbox_widget.observe(on_bbox_change, names=['bboxes'])\n",
    "\n",
    "w_container = widgets.VBox([\n",
    "    bbox_widget,\n",
    "    w_conf,\n",
    "    w_out,\n",
    "])\n",
    "display(w_container)"
   ]
  },
  {
   "cell_type": "code",
   "execution_count": null,
   "metadata": {},
   "outputs": [],
   "source": []
  }
 ],
 "metadata": {
  "interpreter": {
   "hash": "0f16fb013a11341aac360d319dcd451a965e953453d16294bbcc10151dd53404"
  },
  "kernelspec": {
   "display_name": "Python 3 (ipykernel)",
   "language": "python",
   "name": "python3"
  },
  "language_info": {
   "codemirror_mode": {
    "name": "ipython",
    "version": 3
   },
   "file_extension": ".py",
   "mimetype": "text/x-python",
   "name": "python",
   "nbconvert_exporter": "python",
   "pygments_lexer": "ipython3",
   "version": "3.8.2"
  }
 },
 "nbformat": 4,
 "nbformat_minor": 4
}
