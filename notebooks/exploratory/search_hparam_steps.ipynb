{
 "cells": [
  {
   "cell_type": "code",
   "execution_count": 1,
   "source": [
    "%cd ../../"
   ],
   "outputs": [
    {
     "output_type": "stream",
     "name": "stdout",
     "text": [
      "/mnt/sda/otani/Experiments/eval-detection\n"
     ]
    }
   ],
   "metadata": {}
  },
  {
   "cell_type": "code",
   "execution_count": 2,
   "source": [
    "from mim.utils import DEFAULT_CACHE_DIR\n",
    "import os\n",
    "import mmcv\n",
    "from mmcv.utils.config import Config\n",
    "import numpy as np\n",
    "import pandas as pd\n",
    "\n",
    "from src.extensions.dataset.coco_custom import CocoOtcDataset\n",
    "from tqdm import tqdm\n",
    "import matplotlib.pyplot as plt\n",
    "from shutil import copyfile\n",
    "\n",
    "from concurrent.futures import ProcessPoolExecutor, as_completed\n",
    "%matplotlib inline"
   ],
   "outputs": [],
   "metadata": {}
  },
  {
   "cell_type": "code",
   "execution_count": 3,
   "source": [
    "out_pkl_a = \"outputs/otc_search_param_candidates/20211027_003051/RetinaNet.pkl\"\n",
    "out_pkl_b = \"outputs/otc_search_param_candidates/20211027_003051/YOLOF.pkl\"\n",
    "model_cfg = \"retinanet_r50_fpn_2x_coco\"\n",
    "cfg = cfg = Config.fromfile(os.path.join(DEFAULT_CACHE_DIR, model_cfg + \".py\"))\n",
    "data_cfg = cfg.data"
   ],
   "outputs": [],
   "metadata": {}
  },
  {
   "cell_type": "code",
   "execution_count": 4,
   "source": [
    "def eval_otc(results, params):\n",
    "    ot_costs = coco.eval_OTC(results, **params, get_average=False)\n",
    "    key = f\"alpha={params['alpha']:.1}_beata={params['beta']:.1f}\"\n",
    "    return key, ot_costs"
   ],
   "outputs": [],
   "metadata": {}
  },
  {
   "cell_type": "code",
   "execution_count": 5,
   "source": [
    "results_a = mmcv.load(out_pkl_a)\n",
    "results_b = mmcv.load(out_pkl_b)\n",
    "out_dir = os.path.dirname(out_pkl_a)\n",
    "\n",
    "coco = CocoOtcDataset(\n",
    "    \"data/coco/annotations/instances_val2017.json\",\n",
    "    data_cfg.test.pipeline,\n",
    "    test_mode=True,\n",
    ")\n",
    "\n",
    "file_names = [x['file_name'] for x in coco.data_infos]\n",
    "df_a = {\"image\": file_names}\n",
    "df_b = {\"image\": file_names}\n",
    "\n",
    "params = {\"alpha\": 0.5, \"beta\": 0.4}\n",
    "step = 0.2\n",
    "for results, df in zip((results_a, results_b), (df_a, df_b)):\n",
    "    progress = tqdm(len(np.arange(0.1, 0.99, step))**2)\n",
    "    with ProcessPoolExecutor(10) as pool:\n",
    "        futures = []\n",
    "        for p in np.arange(0.1, 0.99, step):\n",
    "            for q in np.arange(0.1, 0.99, step):\n",
    "                params = {\"alpha\": p, \"beta\": q}\n",
    "\n",
    "                future = pool.submit(eval_otc, results, params)\n",
    "                futures.append(future)\n",
    "\n",
    "        for future in as_completed(futures):\n",
    "            key, ot_costs = future.result()\n",
    "            df[key] = ot_costs\n",
    "            progress.update(1)\n",
    "\n",
    "df_a = pd.DataFrame(df_a)\n",
    "df_b = pd.DataFrame(df_b)\n",
    "cols = df_a.columns.tolist()\n",
    "cols.sort()\n",
    "df_a = df_a[cols]\n",
    "df_b = df_b[cols]"
   ],
   "outputs": [
    {
     "output_type": "stream",
     "name": "stdout",
     "text": [
      "loading annotations into memory...\n",
      "Done (t=0.57s)\n",
      "creating index...\n",
      "index created!\n"
     ]
    },
    {
     "output_type": "stream",
     "name": "stderr",
     "text": [
      "0it [00:00, ?it/s]"
     ]
    }
   ],
   "metadata": {}
  },
  {
   "cell_type": "code",
   "execution_count": null,
   "source": [
    "eps = 0.01\n",
    "is_b_better = df_a.values[:, :-1] > df_b.values[:, :-1] + eps\n",
    "n = is_b_better.shape[-1]\n",
    "n_b_better = is_b_better.sum(axis=-1)\n",
    "candidates= np.where((n_b_better > n/2-5) & (n_b_better < n/2+5))[0]\n",
    "sampled_images = df_a.iloc[candidates][\"image\"]\n",
    "print(len(sampled_images))"
   ],
   "outputs": [
    {
     "output_type": "stream",
     "name": "stdout",
     "text": [
      "698\n"
     ]
    }
   ],
   "metadata": {}
  },
  {
   "cell_type": "code",
   "execution_count": null,
   "source": [
    "src_base = \"outputs/run_evaluation/20211027_045631/\"\n",
    "out_base = \"data/processed/user_study/\"\n",
    "for model in [\"RetinaNet\", \"YOLOF\"]:\n",
    "    out_dir = os.path.join(out_base, model)\n",
    "    if not os.path.exists(out_dir):\n",
    "        os.makedirs(out_dir)\n",
    "    \n",
    "    for fn in sampled_images:\n",
    "        copyfile(f\"{src_base}{model}/{fn}\", f\"{os.path.join(out_dir, fn)}\")\n"
   ],
   "outputs": [],
   "metadata": {}
  },
  {
   "cell_type": "code",
   "execution_count": null,
   "source": [],
   "outputs": [],
   "metadata": {}
  }
 ],
 "metadata": {
  "orig_nbformat": 4,
  "language_info": {
   "name": "python",
   "version": "3.7.10",
   "mimetype": "text/x-python",
   "codemirror_mode": {
    "name": "ipython",
    "version": 3
   },
   "pygments_lexer": "ipython3",
   "nbconvert_exporter": "python",
   "file_extension": ".py"
  },
  "kernelspec": {
   "name": "python3",
   "display_name": "Python 3.7.10 64-bit ('obj-detect-analysis': conda)"
  },
  "interpreter": {
   "hash": "e2471993c4d62ae9b575753f4c2b946064f5b3981ce348b4506b63cd1f97a093"
  }
 },
 "nbformat": 4,
 "nbformat_minor": 2
}